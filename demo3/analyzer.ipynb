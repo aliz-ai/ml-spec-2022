{
 "cells": [
  {
   "cell_type": "markdown",
   "id": "hispanic-madrid",
   "metadata": {},
   "source": [
    "# Analysing News Article Content with Google Cloud Natural Language API\n"
   ]
  },
  {
   "cell_type": "markdown",
   "id": "coated-scottish",
   "metadata": {},
   "source": [
    "## Imports and Setup\n"
   ]
  },
  {
   "cell_type": "code",
   "execution_count": 1,
   "id": "violent-wichita",
   "metadata": {},
   "outputs": [],
   "source": [
    "%load_ext autoreload\n",
    "%autoreload 2\n",
    "\n",
    "import requests\n",
    "import time\n",
    "import numpy as np\n",
    "import pandas as pd\n",
    "from pprint import pprint\n",
    "from google.cloud import bigquery\n",
    "\n",
    "from functools import partial\n",
    "import concurrent.futures\n",
    "import multiprocessing\n",
    "from tqdm import tqdm\n",
    "tqdm.pandas()\n",
    "\n",
    "num_processes = multiprocessing.cpu_count()\n",
    "\n",
    "from utils import analyze_article, draw_boxplot_histogram\n",
    "\n",
    "PROJECT = \"aliz-ml-spec-2022-dev\"\n",
    "DATASET = \"ml_specialization\"\n",
    "TABLE = \"articles\"\n",
    "\n",
    "import warnings\n",
    "warnings.simplefilter(action='ignore', category=FutureWarning)\n",
    "\n",
    "pd.set_option('display.max_columns', None)\n",
    "pd.set_option('display.expand_frame_repr', False)\n",
    "pd.set_option('max_colwidth', -1)\n"
   ]
  },
  {
   "cell_type": "markdown",
   "id": "2353d377",
   "metadata": {},
   "source": [
    "# Table Creation"
   ]
  },
  {
   "cell_type": "code",
   "execution_count": 2,
   "id": "9ac3d824",
   "metadata": {},
   "outputs": [],
   "source": [
    "PROJECT = \"aliz-ml-spec-2022-dev\"\n",
    "DATASET = \"ml_specialization\"\n",
    "TABLE = \"articles\""
   ]
  },
  {
   "cell_type": "code",
   "execution_count": 19,
   "id": "62b9b266",
   "metadata": {},
   "outputs": [
    {
     "name": "stdout",
     "output_type": "stream",
     "text": [
      "Note: table `aliz-ml-spec-2022-dev.ml_specialization.articles` already exists!\n"
     ]
    }
   ],
   "source": [
    "# Create dataset\n",
    "bq_client = bigquery.Client()\n",
    "bq_client.create_dataset(DATASET, exists_ok = True)\n",
    "dataset_ref = bigquery.DatasetReference(PROJECT, DATASET)\n",
    "\n",
    "# create date-partitioned table\n",
    "SCHEMA = [\n",
    "    bigquery.SchemaField(\"insert_datetime\", \"DATETIME\", mode=\"NULLABLE\"),\n",
    "    bigquery.SchemaField(\"publish_date\", \"DATE\", mode=\"NULLABLE\"),\n",
    "    bigquery.SchemaField(\"title\", \"STRING\", mode=\"NULLABLE\"),\n",
    "    bigquery.SchemaField(\"article_source_link\", \"STRING\", mode=\"NULLABLE\"),\n",
    "    bigquery.SchemaField(\"article_sentiment\", \"FLOAT\", mode=\"NULLABLE\"),\n",
    "    bigquery.SchemaField(\"persons\", \"RECORD\", mode=\"REPEATED\",\n",
    "        fields=[\n",
    "            bigquery.SchemaField(\"name\", \"STRING\", mode=\"NULLABLE\"),\n",
    "            bigquery.SchemaField(\"wikipedia_uri\", \"STRING\", mode=\"NULLABLE\"),\n",
    "            bigquery.SchemaField(\"num_sentences\", \"INT64\", mode=\"NULLABLE\"),\n",
    "            bigquery.SchemaField(\"person_sentiment\", \"FLOAT\", mode=\"NULLABLE\"),\n",
    "            ])]\n",
    "DESCRIPTION = \"This table stores the articles and their details, including the results from Natural Language API\" \n",
    "                         \n",
    "table_ref = dataset_ref.table(TABLE)\n",
    "table = bigquery.Table(table_ref, schema=SCHEMA)\n",
    "# partitioning\n",
    "table.description=DESCRIPTION\n",
    "table.time_partitioning = bigquery.TimePartitioning(\n",
    "    type_=bigquery.TimePartitioningType.DAY,\n",
    "    field=\"publish_date\",  \n",
    ") \n",
    "\n",
    "try:\n",
    "    table = bq_client.create_table(table, exists_ok = False)  \n",
    "    print(\"Created table `{}`\".format(table.full_table_id))\n",
    "    \n",
    "except:\n",
    "    print(f\"Note: table `{PROJECT}.{DATASET}.{TABLE}` already exists!\")"
   ]
  },
  {
   "cell_type": "markdown",
   "id": "d7c9316e",
   "metadata": {},
   "source": [
    "# Dataset"
   ]
  },
  {
   "cell_type": "markdown",
   "id": "f9945b09",
   "metadata": {},
   "source": [
    "You can either use a static csv dataset or an RSS feed.\n",
    "\n",
    "Below dataset was obtained from [Harvard](https://dataverse.harvard.edu/dataset.xhtml?persistentId=doi:10.7910/DVN/GMFCTR)"
   ]
  },
  {
   "cell_type": "code",
   "execution_count": 4,
   "id": "a2bd61a8",
   "metadata": {},
   "outputs": [
    {
     "data": {
      "text/html": [
       "<div>\n",
       "<style scoped>\n",
       "    .dataframe tbody tr th:only-of-type {\n",
       "        vertical-align: middle;\n",
       "    }\n",
       "\n",
       "    .dataframe tbody tr th {\n",
       "        vertical-align: top;\n",
       "    }\n",
       "\n",
       "    .dataframe thead th {\n",
       "        text-align: right;\n",
       "    }\n",
       "</style>\n",
       "<table border=\"1\" class=\"dataframe\">\n",
       "  <thead>\n",
       "    <tr style=\"text-align: right;\">\n",
       "      <th></th>\n",
       "      <th>publish_date</th>\n",
       "      <th>article_source_link</th>\n",
       "      <th>title</th>\n",
       "      <th>text</th>\n",
       "    </tr>\n",
       "  </thead>\n",
       "  <tbody>\n",
       "    <tr>\n",
       "      <th>0</th>\n",
       "      <td>2017/2/7</td>\n",
       "      <td>http://abcnews.go.com/Politics/pence-break-tie-betsy-devos-confirmation-vote-today/story?id=45310061</td>\n",
       "      <td>Betsy DeVos Confirmed as Education Secretary, With Pence Casting Historic Tie-Breaking Vote</td>\n",
       "      <td>Michigan billionaire education activist Betsy DeVos was confirmed today to serve as the secretary of education in President Trump's administration, after Vice President Mike Pence cast a tie-breaking vote in the Senate. The Senate voted on DeVos\"?highly contentious nomination this afternoon, and the tally was split evenly, requiring Pence to use his authority as president of the upper chamber of Congress to break the impasse. This was the first time that a vice president has broken a tie to confirm a Cabinet nominee. Pence read the vote count 50-50 and then voted himself, rendering the tally 51-50. The day before the vote, Democrats staged a 24-hour marathon of speeches, with more than 30 lawmakers taking to the floor to urge at least one additional Republican to vote against DeVos and block her confirmation. \"It is hard to imagine a worse choice,\"?Sen. Elizabeth Warren, D-Mass., said before she read letters from constituents urging her to vote no. DeVos stirred up vehement opposition from teachers\"?unions and all 48 Senate Democrats. Many cited concerns about her support of school vouchers, which critics believe will weaken public schools, and her lack of experience, since she never attended or worked in the public education system. Others cited her lack of familiarity with a landmark law protecting the education needs of disabled children.     She was panned for a gaffe during her confirmation hearing, when she hedged on an answer about guns in schools by saying they might be needed in states like Wyoming to defend against \"potential grizzlies.\"?DeVos' nomination drew above-average negative reactions from the public, with voters flooding Senate phone lines and email accounts in recent weeks. Sen. Chris Van Hollen, D-Md., said his office received 14,000 calls about DeVos. In addition to the entire Democratic caucus, two moderate Republicans, Sens. Susan Collins of Maine and Lisa Murkowski of Alaska announced they would not support DeVos. During a speech announcing her opposition, Collins said DeVos\"?focus on charters and vouchers \"raises the question of whether or not she fully appreciates that the secretary of education's primary focus must be on helping states and communities, parents, teachers, school board members and administrators strengthen our public schools.\"?Before the confirmation vote, the Senate Health, Education, Labor and Pensions Committee voted along party lines, 12-11, to refer DeVos\"?nomination to the full Senate. ABC News\"?Morgan Winsor contributed to this report.</td>\n",
       "    </tr>\n",
       "  </tbody>\n",
       "</table>\n",
       "</div>"
      ],
      "text/plain": [
       "  publish_date                                                                                   article_source_link                                                                                        title                                                                                                                                                                                                                                                                                                                                                                                                                                                                                                                                                                                                                                                                                                                                                                                                                                                                                                                                                                                                                                                                                                                                                                                                                                                                                                                                                                                                                                                                                                                                                                                                                                                                                                                                                                                                                                                                                                                                                                                                                                                                                                                                                                                                                                                                                                                                                                                                                                                                                                                                                                                                                               text\n",
       "0  2017/2/7     http://abcnews.go.com/Politics/pence-break-tie-betsy-devos-confirmation-vote-today/story?id=45310061  Betsy DeVos Confirmed as Education Secretary, With Pence Casting Historic Tie-Breaking Vote  Michigan billionaire education activist Betsy DeVos was confirmed today to serve as the secretary of education in President Trump's administration, after Vice President Mike Pence cast a tie-breaking vote in the Senate. The Senate voted on DeVos\"?highly contentious nomination this afternoon, and the tally was split evenly, requiring Pence to use his authority as president of the upper chamber of Congress to break the impasse. This was the first time that a vice president has broken a tie to confirm a Cabinet nominee. Pence read the vote count 50-50 and then voted himself, rendering the tally 51-50. The day before the vote, Democrats staged a 24-hour marathon of speeches, with more than 30 lawmakers taking to the floor to urge at least one additional Republican to vote against DeVos and block her confirmation. \"It is hard to imagine a worse choice,\"?Sen. Elizabeth Warren, D-Mass., said before she read letters from constituents urging her to vote no. DeVos stirred up vehement opposition from teachers\"?unions and all 48 Senate Democrats. Many cited concerns about her support of school vouchers, which critics believe will weaken public schools, and her lack of experience, since she never attended or worked in the public education system. Others cited her lack of familiarity with a landmark law protecting the education needs of disabled children.     She was panned for a gaffe during her confirmation hearing, when she hedged on an answer about guns in schools by saying they might be needed in states like Wyoming to defend against \"potential grizzlies.\"?DeVos' nomination drew above-average negative reactions from the public, with voters flooding Senate phone lines and email accounts in recent weeks. Sen. Chris Van Hollen, D-Md., said his office received 14,000 calls about DeVos. In addition to the entire Democratic caucus, two moderate Republicans, Sens. Susan Collins of Maine and Lisa Murkowski of Alaska announced they would not support DeVos. During a speech announcing her opposition, Collins said DeVos\"?focus on charters and vouchers \"raises the question of whether or not she fully appreciates that the secretary of education's primary focus must be on helping states and communities, parents, teachers, school board members and administrators strengthen our public schools.\"?Before the confirmation vote, the Senate Health, Education, Labor and Pensions Committee voted along party lines, 12-11, to refer DeVos\"?nomination to the full Senate. ABC News\"?Morgan Winsor contributed to this report."
      ]
     },
     "execution_count": 4,
     "metadata": {},
     "output_type": "execute_result"
    }
   ],
   "source": [
    "article_df = pd.read_csv(\"NewsArticles.csv\", encoding= 'unicode_escape')\n",
    "article_df = article_df[[\"publish_date\", \"article_source_link\", \"title\", \"text\"]]\n",
    "article_df.dropna(axis =0 , subset = [\"text\"], inplace = True)\n",
    "article_df.head(1)"
   ]
  },
  {
   "cell_type": "markdown",
   "id": "hidden-feeling",
   "metadata": {},
   "source": [
    "# Analyse the Content Using Cloud Natural Language API\n",
    "\n",
    "To use the Natural Language API we will import the required libraries."
   ]
  },
  {
   "cell_type": "markdown",
   "id": "3d06cf35",
   "metadata": {},
   "source": [
    "### Example 1"
   ]
  },
  {
   "cell_type": "code",
   "execution_count": 5,
   "id": "10e42f33",
   "metadata": {},
   "outputs": [
    {
     "name": "stdout",
     "output_type": "stream",
     "text": [
      "sample_text (from http://www.cnn.com/2017/02/07/sport/ski-world-championships-st-moritz-lindsey-vonn/index.html):\n",
      "----------------------------------------------------------------------------------------------------\n",
      "It's a chilling prospect and it's just the beginning of the men's downhill course in St. Moritz. The start hut is cut into a rock face and the slick slope is so steep -- 100% or 45 degrees -- TV cameramen must abseil into positions wearing crampons. But the one skier able to conquer their fear and harness this breakneck speed will be crowned world downhill champion for the next two years. The race is the highlight of the 2017 World Championships, which start this week in the chic Swiss town. St. Moritz, the jewel of the Engadin valley, has been a longtime destination for the jetset and draws a well-heeled international clientele to its fine-dining restaurants and five-star hotels.  Often dubbed the \"home of winter sports,\" St. Moritz has hosted two Winter Olympics and four previous World Championships. A total of 600 athletes from more than 70 countries will compete across six alpine skiing disciplines -- slalom, giant slalom, super-G, downhill, super combined (downhill and slalom) and the team event. Outside of the Olympics, it's the biggest event in the sport and carries more cachet than the World Cup circuit. \"It's winning, basically, the Olympics minus all the other sports -- that's what the World Championships is for us. It's big,\" Mikaela Shiffrin, who leads the World Cup overall and slalom standings, told CNN's Alpine Edge. The 21-year-old American is going for a third straight slalom world title after winning gold in Schladming in 2013 and Beaver Creek two years ago. She also won the Olympic slalom gold in 2014, and is aware she has set herself a very high benchmark. \"Not winning stinks -- it makes me feel like I've done something wrong,\" Shiffrin adds. But the headline attraction will be her compatriot Lindsey Vonn, the second most successful ski racer of all time -- male or female -- with 77 World Cup wins, behind only Sweden's Ingemar Stenmark (86). Speed queen Vonn, the 2010 Olympic downhill champion, won her only world title in 2009 and is back on the circuit following a broken arm and severe nerve damage to her right hand sustained in a crash shortly after returning from knee surgery. Vonn won in only her second race since returning to the circuit in Garmisch-Partenkirchen in Germany in January, but crashed in a downhill at Cortina d'Ampezzo in Italy this month. In St. Moritz Tuesday, she skied out during the opening run of the World Championships' first race -- the women's super-G -- after trying to regain grip on her pole. \"I just kind of lost my concentration there for a minute,\" Vonn, the 2015 bronze medalist, told reporters. \"I stayed on my feet, so that was the important thing.\" Austria's Nicole Schmidhofer won the gold medal from Tina Weirather of Liechtenstein and home favorite Lara Gut in perfect conditions, after two days of heavy snow had canceled the men's and women's downhill training sessions. Defending champion and Olympic gold medalist Anna Veith didn't make the second run after missing a gate. The women's downhill start is lower than the men's but still a considerable test of skill and stamina. Vonn's main rivals on Sunday will be World Cup overall champion Gut and Slovenia's Ilka Stuhec, this season's World Cup downhill leader. Another Slovenian Tina Maze, who has since retired, won the world title in 2015. The men's downhill takes place Saturday on the legendary \"Free Fall\" course, which was dreamed up by Bernhard Russi, the Swiss two-time downhill world champion and 1972 Olympic gold medalist. READ: Vonn crashes in Cortina READ: Vonn wins first race since comeback READ: Lindsey Vonn -- 'Hardest recovery of my career' Racers access the start hut via a steel staircase before plunging from 9,317 feet to 6,692 feet down to the Salastrains plateau above St. Moritz. Switzerland's Patrick Kung is the defending champion, but Italy's Peter Fill won the 2015-16 World Cup title and leads the standings this season. Norway's Kjetil Jansrud and Italian Dominik Paris, the winner in Kitzbuhel, are second and third in the World Cup standings. Former wold junior champion Beat Feuz triumphed at St. Moritz last year and the 29-year-old Swiss skier could improve on his World Championship bronze from Beaver Creek in 2015. The men's slalom on February 19 is likely to be a shootout between Austria's Marcel Hirscher and Sweden's Henrik Kristofferson. Hirscher, 27, has won four World Championship golds and a record five overall World Cup titles, while 22-year-old Kristofferson is last year's World Cup slalom champion. It is worth keeping an eye on Briton Dave Ryding, who has been making waves after scoring his country's joint best result in a World Cup race with a second place in the slalom in Kitzbuhel last month. He equaled the achievement of Konrad Bartelski in a downhill in Val Gardena, Italy in 1981. Ryding followed it up with 10th in the Schladming night slalom and sits fifth in the World Cup slalom standings. Visit cnn.com/skiing for more news and video Britain has won 11 medals at the World Championships but none since 1936.\n"
     ]
    }
   ],
   "source": [
    "NO = 40\n",
    "sample_text = article_df[\"text\"][NO]\n",
    "sample_text_link = article_df['article_source_link'][NO]\n",
    "print(f\"sample_text (from {sample_text_link}):\")\n",
    "print(\"-\"*100)\n",
    "print(sample_text)"
   ]
  },
  {
   "cell_type": "code",
   "execution_count": 6,
   "id": "ce621bb9",
   "metadata": {},
   "outputs": [
    {
     "name": "stdout",
     "output_type": "stream",
     "text": [
      "Sentiment of this artice is 0.10\n",
      "Noteworthy individuals mentioned in the article are:\n",
      "[{'name': 'Lindsey Vonn',\n",
      "  'num_sentences': 2,\n",
      "  'person_sentiment': 0.15000000596046448,\n",
      "  'wikipedia_uri': 'https://de.wikipedia.org/wiki/Lindsey_Vonn'},\n",
      " {'name': 'Mikaela Shiffrin',\n",
      "  'num_sentences': 1,\n",
      "  'person_sentiment': 0.20000000298023224,\n",
      "  'wikipedia_uri': 'https://de.wikipedia.org/wiki/Mikaela_Shiffrin'},\n",
      " {'name': 'Beat Feuz',\n",
      "  'num_sentences': 1,\n",
      "  'person_sentiment': 0.10000000149011612,\n",
      "  'wikipedia_uri': 'https://de.wikipedia.org/wiki/Beat_Feuz'},\n",
      " {'name': 'Anna Veith',\n",
      "  'num_sentences': 1,\n",
      "  'person_sentiment': -0.30000001192092896,\n",
      "  'wikipedia_uri': 'https://de.wikipedia.org/wiki/Anna_Veith'}]\n"
     ]
    }
   ],
   "source": [
    "article_sentiment, persons = analyze_article(sample_text, postprocess=False)\n",
    "print(f\"Sentiment of this artice is {article_sentiment:.2f}\")\n",
    "print(\"Noteworthy individuals mentioned in the article are:\")\n",
    "pprint(persons[:4])"
   ]
  },
  {
   "cell_type": "markdown",
   "id": "4467aab4",
   "metadata": {},
   "source": [
    "### Example 2"
   ]
  },
  {
   "cell_type": "code",
   "execution_count": 7,
   "id": "839d7bc3",
   "metadata": {},
   "outputs": [
    {
     "name": "stdout",
     "output_type": "stream",
     "text": [
      "sample_text (from http://abcnews.go.com/Politics/appeals-court-decide-challenge-trumps-immigration-executive-order/story?id=45325524):\n",
      "----------------------------------------------------------------------------------------------------\n",
      "This afternoon, three federal judges from the 9th Circuit Court of Appeals will hear oral arguments in the emergency legal challenge to President Trump's executive order that temporarily bars immigration and travel to the U.S. for people from seven Muslim-majority countries and for refugees. The hearing, which will be conducted over the phone at 3 p.m. Pacific time, will allow each side to give 30-minute arguments. The plaintiffs in this appeal, Washington and Minnesota, will state their case, as will the Department of Justice. The public can listen to the hearings live on the 9th Circuit website. The judges are expected to rule on the future of the executive order after hearing oral arguments. While their decision won't determine the constitutionality of Trump's immigration ban, it will determine whether the suspension of the executive order, ruled by U.S. District Court Judge James Robart, will remain. The two states have argued that Trump's order was likely to cause \"irreparable harm\" to businesses, schools, family relations and state residents' freedom to travel and is unconstitutional because it discriminates on the basis of religion. The Justice Department said the travel restrictions are a matter of national security and the administration was excluding people from countries with ties to terrorism, not people of a certain religion.     Today, Trump suggested that the legal battle between the two states and the Justice Department could make it all the way to the Supreme Court. \"We're going to take it through the system,\" said Trump. \"It's very important for the country, regardless of me or whoever succeeds at a later date.\" On Capitol Hill today, Secretary of >Homeland Security John Kelly defended the immigration executive order, calling it \"lawful and constitutional.\" Only a week old, the order has sparked protests and outcry across the country. The legal community has been grappling with the order, some travelers have been delayed, and others are wondering if they will be allowed previously approved entry into the United States. The order, called Protecting the Nation From Foreign Terrorist Entry Into the United States, bars all people with immigrant and nonimmigrant visas from Iraq, Iran, Libya, Somalia, Sudan, Syria and Yemen from coming to the U.S. for 90 days. It also prevents the entry of refugees from anywhere in the world for 120 days, with an indefinite ban on refugees from the war-torn country of Syria. The Monday after Trump signed his order, Washington state filed a legal challenge that was joined by Minnesota. Robart, an appointee of President George W. Bush, on Friday issued a temporary restraining order, which covers the entire U.S., blocking the travel ban. Trump immediately took issue with the move, tweeting on Saturday, \"The opinion of this so-called judge ... is ridiculous and will be overturned!\" On Saturday the Department of Justice, challenging Robart's ruling, turned to the powerful 9th Circuit Court of Appeals in San Francisco to try to immediately lift the restraining order while the appeal was being considered. The appeals court denied the request. The outcome of today's hearing with the 9th Circuit could determine \"?at least temporarily \"?the fate of thousands of refugees, immigrants and travelers in the United States and abroad hoping to enter the U.S.\n"
     ]
    }
   ],
   "source": [
    "NO = 3\n",
    "sample_text = article_df[\"text\"][NO]\n",
    "sample_text_link = article_df['article_source_link'][NO]\n",
    "sample_text = article_df[\"text\"][NO]\n",
    "sample_text_link = article_df['article_source_link'][NO]\n",
    "print(f\"sample_text (from {sample_text_link}):\")\n",
    "print(\"-\"*100)\n",
    "print(sample_text)"
   ]
  },
  {
   "cell_type": "code",
   "execution_count": 8,
   "id": "a82e07a9",
   "metadata": {},
   "outputs": [
    {
     "name": "stdout",
     "output_type": "stream",
     "text": [
      "Sentiment of this artice is -0.30\n",
      "Noteworthy individuals mentioned in the article are:\n",
      "[{'name': 'Trump',\n",
      "  'num_sentences': 7,\n",
      "  'person_sentiment': -0.3857142903975078,\n",
      "  'wikipedia_uri': 'https://en.wikipedia.org/wiki/Donald_Trump'},\n",
      " {'name': 'James Robart',\n",
      "  'num_sentences': 1,\n",
      "  'person_sentiment': -0.4000000059604645,\n",
      "  'wikipedia_uri': 'https://de.wikipedia.org/wiki/James_Robart'},\n",
      " {'name': 'John Kelly',\n",
      "  'num_sentences': 1,\n",
      "  'person_sentiment': -0.30000001192092896,\n",
      "  'wikipedia_uri': 'https://de.wikipedia.org/wiki/John_F._Kelly'},\n",
      " {'name': 'George W. Bush',\n",
      "  'num_sentences': 1,\n",
      "  'person_sentiment': -0.5,\n",
      "  'wikipedia_uri': 'https://de.wikipedia.org/wiki/George_W._Bush'}]\n"
     ]
    }
   ],
   "source": [
    "article_sentiment, persons = analyze_article(sample_text, postprocess=False)\n",
    "print(f\"Sentiment of this artice is {article_sentiment:.2f}\")\n",
    "print(\"Noteworthy individuals mentioned in the article are:\")\n",
    "pprint(persons)"
   ]
  },
  {
   "cell_type": "code",
   "execution_count": 9,
   "id": "8eaea139",
   "metadata": {},
   "outputs": [
    {
     "name": "stderr",
     "output_type": "stream",
     "text": [
      "/home/jupyter/ml_spec/ml-spec-2022/demo3/utils.py:78: GuessedAtParserWarning: No parser was explicitly specified, so I'm using the best available HTML parser for this system (\"html.parser\"). This usually isn't a problem, but if you run this code on another system, or in a different virtual environment, it may use a different parser and behave differently.\n",
      "\n",
      "The code that caused this warning is on line 78 of the file /home/jupyter/ml_spec/ml-spec-2022/demo3/utils.py. To get rid of this warning, pass the additional argument 'features=\"html.parser\"' to the BeautifulSoup constructor.\n",
      "\n",
      "  soup = BeautifulSoup(urlopen(org_url_link))\n"
     ]
    },
    {
     "name": "stdout",
     "output_type": "stream",
     "text": [
      "Sentiment of this artice is -0.30\n",
      "Noteworthy individuals mentioned in the article are:\n",
      "[{'name': 'Donald Trump',\n",
      "  'num_sentences': 7,\n",
      "  'person_sentiment': -0.3857142903975078,\n",
      "  'wikipedia_uri': 'https://en.wikipedia.org/wiki/Donald_Trump'},\n",
      " {'name': 'James Robart',\n",
      "  'num_sentences': 1,\n",
      "  'person_sentiment': -0.4000000059604645,\n",
      "  'wikipedia_uri': 'https://en.wikipedia.org/wiki/James_Robart'},\n",
      " {'name': 'John F. Kelly',\n",
      "  'num_sentences': 1,\n",
      "  'person_sentiment': -0.30000001192092896,\n",
      "  'wikipedia_uri': 'https://en.wikipedia.org/wiki/John_F._Kelly'},\n",
      " {'name': 'George W. Bush',\n",
      "  'num_sentences': 1,\n",
      "  'person_sentiment': -0.5,\n",
      "  'wikipedia_uri': 'https://en.wikipedia.org/wiki/George_W._Bush'}]\n"
     ]
    }
   ],
   "source": [
    "# postprocessing (by 'postproces = True') standardizes the names of the individuals\n",
    "# and ensures that the Wikipedia links are all in English\n",
    "article_sentiment, persons = analyze_article(sample_text, postprocess=True)\n",
    "print(f\"Sentiment of this artice is {article_sentiment:.2f}\")\n",
    "print(\"Noteworthy individuals mentioned in the article are:\")\n",
    "pprint(persons)\n",
    "# see how Trump now appears as \"Donald Trump\""
   ]
  },
  {
   "cell_type": "markdown",
   "id": "bcc55669",
   "metadata": {},
   "source": [
    "# Application to all articles"
   ]
  },
  {
   "cell_type": "code",
   "execution_count": 47,
   "id": "d9c6f070",
   "metadata": {},
   "outputs": [
    {
     "name": "stdout",
     "output_type": "stream",
     "text": [
      "3805.6865348447\n"
     ]
    }
   ],
   "source": [
    "# without parallelization\n",
    "start = time.time()\n",
    "article_df['result'] = article_df[\"text\"].progress_apply(lambda x: partial(analyze_article, postprocess = False)(x))\n",
    "end = time.time()\n",
    "print(end - start)"
   ]
  },
  {
   "cell_type": "code",
   "execution_count": 48,
   "id": "61036ea5",
   "metadata": {},
   "outputs": [
    {
     "name": "stderr",
     "output_type": "stream",
     "text": [
      "100%|██████████| 3791/3791 [15:03<00:00,  4.20it/s]"
     ]
    },
    {
     "name": "stdout",
     "output_type": "stream",
     "text": [
      "903.4528577327728\n"
     ]
    },
    {
     "name": "stderr",
     "output_type": "stream",
     "text": [
      "\n"
     ]
    }
   ],
   "source": [
    "# without parallelization\n",
    "\n",
    "start = time.time()\n",
    "    \n",
    "# Process the rows in chunks in parallel\n",
    "with concurrent.futures.ThreadPoolExecutor(num_processes) as pool:\n",
    "    article_df['result'] = list(tqdm(pool.map(partial(analyze_article, postprocess = False), article_df['text'], chunksize=10), total=article_df.shape[0])) \n",
    "    \n",
    "end = time.time()\n",
    "print(end - start)"
   ]
  },
  {
   "cell_type": "code",
   "execution_count": 49,
   "id": "9e1fb6d3",
   "metadata": {},
   "outputs": [],
   "source": [
    "article_df['article_sentiment'], article_df['persons'] = article_df[\"result\"].str"
   ]
  },
  {
   "cell_type": "markdown",
   "id": "9e40f240",
   "metadata": {},
   "source": [
    "# Analysis"
   ]
  },
  {
   "cell_type": "code",
   "execution_count": 50,
   "id": "6d192fd8",
   "metadata": {},
   "outputs": [],
   "source": [
    "article_df[\"article_len\"] = article_df[\"text\"].apply(len)\n",
    "article_df[\"num_persons\"] = article_df[\"persons\"].apply(len)"
   ]
  },
  {
   "cell_type": "code",
   "execution_count": 51,
   "id": "182543a6",
   "metadata": {},
   "outputs": [
    {
     "data": {
      "image/png": "[encoded data removed]",
      "text/plain": [
       "<Figure size 1296x432 with 2 Axes>"
      ]
     },
     "metadata": {},
     "output_type": "display_data"
    }
   ],
   "source": [
    "draw_boxplot_histogram(article_df, \"num_persons\")"
   ]
  },
  {
   "cell_type": "code",
   "execution_count": 52,
   "id": "725ecfb8",
   "metadata": {},
   "outputs": [
    {
     "data": {
      "image/png": "[encoded data removed]",
      "text/plain": [
       "<Figure size 1296x432 with 2 Axes>"
      ]
     },
     "metadata": {},
     "output_type": "display_data"
    }
   ],
   "source": [
    "draw_boxplot_histogram(article_df, \"article_sentiment\")"
   ]
  },
  {
   "cell_type": "code",
   "execution_count": 53,
   "id": "ce3ff79d",
   "metadata": {},
   "outputs": [
    {
     "data": {
      "image/png": "[encoded data removed]",
      "text/plain": [
       "<Figure size 1296x432 with 2 Axes>"
      ]
     },
     "metadata": {},
     "output_type": "display_data"
    }
   ],
   "source": [
    "draw_boxplot_histogram(article_df, \"article_len\")"
   ]
  },
  {
   "cell_type": "markdown",
   "id": "871e0f1c",
   "metadata": {},
   "source": [
    "# Load to BQ"
   ]
  },
  {
   "cell_type": "code",
   "execution_count": 54,
   "id": "769561b7",
   "metadata": {},
   "outputs": [],
   "source": [
    "article_df[\"insert_datetime\"] = pd.Timestamp.now()\n",
    "article_df[\"publish_date\"] = pd.to_datetime(article_df[\"publish_date\"])"
   ]
  },
  {
   "cell_type": "code",
   "execution_count": 76,
   "id": "ae703447",
   "metadata": {},
   "outputs": [],
   "source": [
    "article_df = article_df[[\"insert_datetime\", \"publish_date\", \"title\", \"article_source_link\", \"article_sentiment\", \"persons\"]]"
   ]
  },
  {
   "cell_type": "code",
   "execution_count": 82,
   "id": "15c97897",
   "metadata": {},
   "outputs": [
    {
     "data": {
      "text/plain": [
       "LoadJob<project=aliz-ml-spec-2022-dev, location=US, id=0e072a3b-91ba-484b-ae30-39c612104bc1>"
      ]
     },
     "execution_count": 82,
     "metadata": {},
     "output_type": "execute_result"
    }
   ],
   "source": [
    "job_config = bigquery.LoadJobConfig(\n",
    "    schema=SCHEMA,\n",
    "    write_disposition=\"WRITE_TRUNCATE\",\n",
    ")\n",
    "\n",
    "job = bq_client.load_table_from_dataframe(\n",
    "    article_df2, \"aliz-ml-spec-2022-dev.ml_specialization.articles\", job_config=job_config\n",
    ")  # Make an API request.\n",
    "job.result()  # Wait for the job to complete.\n"
   ]
  },
  {
   "cell_type": "code",
   "execution_count": 83,
   "id": "0b8c677d",
   "metadata": {},
   "outputs": [
    {
     "data": {
      "text/plain": [
       "True"
      ]
     },
     "execution_count": 83,
     "metadata": {},
     "output_type": "execute_result"
    }
   ],
   "source": [
    "job.done()"
   ]
  }
 ],
 "metadata": {
  "environment": {
   "kernel": "python3",
   "name": "common-cpu.m93",
   "type": "gcloud",
   "uri": "gcr.io/deeplearning-platform-release/base-cpu:m93"
  },
  "kernelspec": {
   "display_name": "Python 3",
   "language": "python",
   "name": "python3"
  },
  "language_info": {
   "codemirror_mode": {
    "name": "ipython",
    "version": 3
   },
   "file_extension": ".py",
   "mimetype": "text/x-python",
   "name": "python",
   "nbconvert_exporter": "python",
   "pygments_lexer": "ipython3",
   "version": "3.7.12"
  }
 },
 "nbformat": 4,
 "nbformat_minor": 5
}
