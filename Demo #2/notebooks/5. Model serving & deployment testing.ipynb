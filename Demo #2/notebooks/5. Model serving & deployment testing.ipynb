{
 "cells": [
  {
   "cell_type": "markdown",
   "metadata": {},
   "source": [
    "# Model serving & deployment testing"
   ]
  },
  {
   "cell_type": "markdown",
   "metadata": {},
   "source": [
    "## Abstract\n",
    "\n",
    "This notebook serves the hypertuned model.\n",
    "\n",
    "TODO: Update\n",
    "\n",
    "The model to deploy is an XGBoost regressor with the following hyperparameters values:\n",
    "- `max_depth` = 9\n",
    "- `learning_rate` = 0.31619\n",
    "- `n_estimators` = 767\n",
    "- `subsample` = 1\n",
    "- `gamma` = 0\n",
    "\n",
    "With those hyperparameters values frozen, the model has already been trained on the full data available (_the original file `train.csv`_) during the [hypertuning phase](https://6fbe85b20ee1f013-dot-us-west1.notebooks.googleusercontent.com/lab/tree/Demo%20#2/5.%20Model%20hyper-parameter%20tuning%20&%20evaluation.ipynb).\n",
    "<br>The model has been serialized in Cloud Storage in the __modelling_serializations__ folder.\n",
    "<br>The model folder path is: `gs://szilard_aliz_sandbox/pierre_tasks/demo2/modelling_serializations_2/20200216_205755/to_deploy`.\n",
    "\n",
    "Let's deploy this model and test it with an online prediction request feeding some sample input data taken from the original file `test.csv`."
   ]
  },
  {
   "cell_type": "markdown",
   "metadata": {},
   "source": [
    "## Serving the model"
   ]
  },
  {
   "cell_type": "markdown",
   "metadata": {},
   "source": [
    "### Create endpoint"
   ]
  },
  {
   "cell_type": "code",
   "execution_count": 1,
   "metadata": {},
   "outputs": [
    {
     "name": "stderr",
     "output_type": "stream",
     "text": [
      "Using endpoint [https://europe-west3-aiplatform.googleapis.com/]\n",
      "Waiting for operation [3443004114147999744]...\n",
      ".................................................................................................done.\n",
      "Created Vertex AI endpoint: projects/53911330556/locations/europe-west3/endpoints/7113681902036320256.\n"
     ]
    }
   ],
   "source": [
    "!gcloud ai endpoints create --region=\"europe-west3\" --display-name=\"blackfriday\""
   ]
  },
  {
   "cell_type": "code",
   "execution_count": 2,
   "metadata": {},
   "outputs": [
    {
     "name": "stdout",
     "output_type": "stream",
     "text": [
      "ENDPOINT_ID          DISPLAY_NAME\n",
      "7113681902036320256  blackfriday\n"
     ]
    },
    {
     "name": "stderr",
     "output_type": "stream",
     "text": [
      "Using endpoint [https://europe-west3-aiplatform.googleapis.com/]\n"
     ]
    }
   ],
   "source": [
    "!gcloud ai endpoints list --region=\"europe-west3\" --filter=display_name=\"blackfriday\""
   ]
  },
  {
   "cell_type": "markdown",
   "metadata": {},
   "source": [
    "In the following, we use the obtained `ENDPOINT_ID`."
   ]
  },
  {
   "cell_type": "markdown",
   "metadata": {},
   "source": [
    "### Create model"
   ]
  },
  {
   "cell_type": "markdown",
   "metadata": {},
   "source": [
    "The model artifact's filename must exactly match `model.joblib`, if Joblib is used. There are other available formats, see documentation."
   ]
  },
  {
   "cell_type": "code",
   "execution_count": 4,
   "metadata": {},
   "outputs": [
    {
     "name": "stderr",
     "output_type": "stream",
     "text": [
      "Copying gs://aliz-ml-spec-2022/demo-2/modelling_serializations/20220528_184410/gamma=0.0__learning_rate=0.1__max_depth=3__n_estimators=100__n_jobs=-1__subsample=1.0__tree_method=hist.joblib [Content-Type=application/octet-stream]...\n",
      "/ [0 files][    0.0 B/214.9 KiB]                                                \n",
      "/ [1 files][214.9 KiB/214.9 KiB]                                                \n",
      "\n",
      "Operation completed over 1 objects/214.9 KiB.                                    \n"
     ]
    }
   ],
   "source": [
    "!gsutil cp \"gs://aliz-ml-spec-2022/demo-2/modelling_serializations/20220528_184410/gamma=0.0__learning_rate=0.1__max_depth=3__n_estimators=100__n_jobs=-1__subsample=1.0__tree_method=hist.joblib\" \"gs://aliz-ml-spec-2022/demo-2/modelling_serializations/20220528_184410/model.joblib\""
   ]
  },
  {
   "cell_type": "code",
   "execution_count": 16,
   "metadata": {},
   "outputs": [
    {
     "name": "stderr",
     "output_type": "stream",
     "text": [
      "Using endpoint [https://europe-west3-aiplatform.googleapis.com/]\n",
      "Waiting for operation [3021917548988858368]...\n",
      "...................done.\n"
     ]
    }
   ],
   "source": [
    "!gcloud ai models upload --region=\"europe-west3\" --display-name=\"blackfriday\" --container-image-uri=\"europe-docker.pkg.dev/vertex-ai/prediction/sklearn-cpu.1-0:latest\" --artifact-uri=\"gs://aliz-ml-spec-2022/demo-2/modelling_serializations/20220528_184410/\""
   ]
  },
  {
   "cell_type": "code",
   "execution_count": 17,
   "metadata": {},
   "outputs": [
    {
     "name": "stdout",
     "output_type": "stream",
     "text": [
      "MODEL_ID             DISPLAY_NAME\n",
      "3246180537659817984  blackfriday\n",
      "6337901681849663488  blackfriday\n"
     ]
    },
    {
     "name": "stderr",
     "output_type": "stream",
     "text": [
      "Using endpoint [https://europe-west3-aiplatform.googleapis.com/]\n"
     ]
    }
   ],
   "source": [
    "!gcloud ai models list --region=\"europe-west3\""
   ]
  },
  {
   "cell_type": "markdown",
   "metadata": {},
   "source": [
    "### Deploy model"
   ]
  },
  {
   "cell_type": "markdown",
   "metadata": {},
   "source": [
    "Deployment might take a while."
   ]
  },
  {
   "cell_type": "code",
   "execution_count": 18,
   "metadata": {},
   "outputs": [
    {
     "name": "stderr",
     "output_type": "stream",
     "text": [
      "Using endpoint [https://europe-west3-aiplatform.googleapis.com/]\n",
      "Waiting for operation [8827057468669427712]...\n",
      ".....................................................................................................................................................................................................................................................................................................................................................................................................................................................................................................................................................................................................................................................................................................................................................................................................................................................................................................................................................................................................................................................................................................................................................................................................................................................................................................................................................................................................................................................................................................................................................................................................................................................................................................................................................................................................................................................................................................................................................................................................................................................................................................................................................................................................................................................................................................................................................................................................................................................................................................................................................................................................................................................................................................................................................................................................................................failed.\n",
      "ERROR: (gcloud.ai.endpoints.deploy-model) Error: model server never became ready. Please validate that your model file or container configuration are valid. Model server logs can be found at https://console.cloud.google.com/logs/viewer?project=53911330556&resource=aiplatform.googleapis.com%252FEndpoint&advancedFilter=resource.type%3D%22aiplatform.googleapis.com%2FEndpoint%22%0Aresource.labels.endpoint_id%3D%227113681902036320256%22%0Aresource.labels.location%3D%22europe-west3%22.\n"
     ]
    }
   ],
   "source": [
    "!gcloud ai endpoints deploy-model 7113681902036320256 --region=europe-west3 --model=3246180537659817984 --display-name=\"blackfriday\" --machine-type=n1-standard-2 --min-replica-count=1 --max-replica-count=1 --traffic-split=0=100"
   ]
  },
  {
   "cell_type": "markdown",
   "metadata": {},
   "source": [
    "#### Predict with Gcloud"
   ]
  },
  {
   "cell_type": "code",
   "execution_count": null,
   "metadata": {},
   "outputs": [],
   "source": [
    "# TODO: genereate request.json"
   ]
  },
  {
   "cell_type": "code",
   "execution_count": null,
   "metadata": {},
   "outputs": [],
   "source": [
    "# !gcloud ai endpoints predict 7113681902036320256 --region=europe-west3 --json-request=request.json"
   ]
  },
  {
   "cell_type": "markdown",
   "metadata": {},
   "source": [
    "#### Predict with Python"
   ]
  },
  {
   "cell_type": "code",
   "execution_count": null,
   "metadata": {},
   "outputs": [],
   "source": [
    "from google.cloud import aiplatform\n",
    "\n",
    "\n",
    "def predict(\n",
    "    project: str, location: str, instances: list, endpoint: str\n",
    "):\n",
    "    aiplatform.init(project=project, location=location)\n",
    "\n",
    "    endpoint = aiplatform.Endpoint(endpoint)\n",
    "\n",
    "    prediction = endpoint.predict(instances=instances)\n",
    "    print(prediction)\n",
    "    return prediction\n",
    "\n",
    "predict(\n",
    "    project=\"aliz-ml-spec-2022-submission\",\n",
    "    location=\"europe-west3\",\n",
    "    instances=[\n",
    "      [1000004, \"P00128942\", \"M\", \"46-50\", 7, \"B\", 2, 1, \"1\", \"11.0\", \"nan\"],\n",
    "      [1000009, \"P00113442\", \"M\", \"26-35\", 17, \"C\", 0, 0, \"3\", \"5.0\", \"nan\"],\n",
    "      [1000010, \"P00288442\", \"F\", \"36-45\", 1, \"B\", 4, 1, \"5\", \"14.0\", \"nan\"]\n",
    "    ],\n",
    "    endpoint=\"7113681902036320256\"\n",
    ")"
   ]
  },
  {
   "cell_type": "markdown",
   "metadata": {},
   "source": [
    "#### Cleanup"
   ]
  },
  {
   "cell_type": "code",
   "execution_count": 14,
   "metadata": {},
   "outputs": [
    {
     "name": "stderr",
     "output_type": "stream",
     "text": [
      "ERROR: (gcloud.ai.endpoints.undeploy-model) argument --region: ENDPOINT must be specified.\n",
      "Usage: gcloud ai endpoints undeploy-model (ENDPOINT : --region=REGION) --deployed-model-id=DEPLOYED_MODEL_ID [optional flags]\n",
      "  optional flags may be  --help | --region | --traffic-split\n",
      "\n",
      "For detailed information on this command and its flags, run:\n",
      "  gcloud ai endpoints undeploy-model --help\n"
     ]
    }
   ],
   "source": [
    "!gcloud ai endpoints undeploy-model --region=\"europe-west3\" --deployed-model-id=7113681902036320256"
   ]
  },
  {
   "cell_type": "code",
   "execution_count": null,
   "metadata": {},
   "outputs": [],
   "source": [
    "!gcloud ai endpoints delete 7113681902036320256 --region=\"europe-west3\""
   ]
  },
  {
   "cell_type": "code",
   "execution_count": 15,
   "metadata": {},
   "outputs": [
    {
     "name": "stderr",
     "output_type": "stream",
     "text": [
      "Using endpoint [https://europe-west3-aiplatform.googleapis.com/]\n",
      "ERROR: (gcloud.ai.models.delete) FAILED_PRECONDITION: The Model \"projects/53911330556/locations/europe-west3/models/6337901681849663488\" is deployed or being deployed at the following Endpoint(s): projects/53911330556/locations/europe-west3/endpoints/7113681902036320256.\n"
     ]
    }
   ],
   "source": [
    "!gcloud ai models delete 6337901681849663488 --region=\"europe-west3\""
   ]
  }
 ],
 "metadata": {
  "interpreter": {
   "hash": "bc06bcd290edec7cb8ce411b6bcce5e33281c1a61d9d13c57740a80f0704bd99"
  },
  "kernelspec": {
   "display_name": "Python 3.7.13 ('env37': venv)",
   "language": "python",
   "name": "python3"
  },
  "language_info": {
   "codemirror_mode": {
    "name": "ipython",
    "version": 3
   },
   "file_extension": ".py",
   "mimetype": "text/x-python",
   "name": "python",
   "nbconvert_exporter": "python",
   "pygments_lexer": "ipython3",
   "version": "3.7.13"
  }
 },
 "nbformat": 4,
 "nbformat_minor": 4
}
