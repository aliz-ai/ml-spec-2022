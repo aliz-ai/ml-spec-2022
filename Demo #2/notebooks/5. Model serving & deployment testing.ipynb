{
 "cells": [
  {
   "cell_type": "markdown",
   "metadata": {},
   "source": [
    "# Model serving & deployment testing"
   ]
  },
  {
   "cell_type": "markdown",
   "metadata": {},
   "source": [
    "## Abstract\n",
    "\n",
    "This notebook serves an Sklean's pipeline with a Linear Regression, as it was the best performing model so far.\n",
    "\n",
    "\n",
    "Tthe model has already been trained on the full data available (_the original file `train.csv`_) during the [training phase](https://github.com/aliz-ai/ml-spec-2022/blob/demo2/Demo%20%232/notebooks/3.%20Training%20experiments.ipynb).\n",
    "<br>The model has been serialized in Cloud Storage in the __modelling_serializations__ folder.\n",
    "<br>The model folder path is: `gs://aliz-ml-spec-2022/demo-2/modelling_serializations/20220608_150907/to_deploy`.\n",
    "\n",
    "Let's deploy this model and test it with an online prediction request feeding some sample input data taken from the original file `test.csv`."
   ]
  },
  {
   "cell_type": "markdown",
   "metadata": {},
   "source": [
    "## Serving the model"
   ]
  },
  {
   "cell_type": "markdown",
   "metadata": {},
   "source": [
    "### Create endpoint"
   ]
  },
  {
   "cell_type": "code",
   "execution_count": 1,
   "metadata": {},
   "outputs": [
    {
     "name": "stderr",
     "output_type": "stream",
     "text": [
      "Using endpoint [https://europe-west3-aiplatform.googleapis.com/]\n",
      "Waiting for operation [3559675491994566656]...\n",
      "........done.\n",
      "Created Vertex AI endpoint: projects/53911330556/locations/europe-west3/endpoints/3855890521587187712.\n"
     ]
    }
   ],
   "source": [
    "!gcloud ai endpoints create --region=\"europe-west3\" --display-name=\"demo2_blackfriday\""
   ]
  },
  {
   "cell_type": "code",
   "execution_count": 2,
   "metadata": {},
   "outputs": [
    {
     "name": "stdout",
     "output_type": "stream",
     "text": [
      "ENDPOINT_ID          DISPLAY_NAME\n",
      "3855890521587187712  demo2_blackfriday\n"
     ]
    },
    {
     "name": "stderr",
     "output_type": "stream",
     "text": [
      "Using endpoint [https://europe-west3-aiplatform.googleapis.com/]\n"
     ]
    }
   ],
   "source": [
    "!gcloud ai endpoints list --region=\"europe-west3\" --filter=display_name=\"demo2_blackfriday\""
   ]
  },
  {
   "cell_type": "code",
   "execution_count": 3,
   "metadata": {},
   "outputs": [],
   "source": [
    "ENDPOINT_ID = 3855890521587187712"
   ]
  },
  {
   "cell_type": "markdown",
   "metadata": {},
   "source": [
    "In the following, we use the obtained `ENDPOINT_ID`."
   ]
  },
  {
   "cell_type": "markdown",
   "metadata": {},
   "source": [
    "### Create model"
   ]
  },
  {
   "cell_type": "markdown",
   "metadata": {},
   "source": [
    "The model artifact's filename must exactly match `model.joblib`, if Joblib is used. There are other available formats, see [documentation](https://cloud.google.com/vertex-ai/docs/training/exporting-model-artifacts)."
   ]
  },
  {
   "cell_type": "code",
   "execution_count": 4,
   "metadata": {},
   "outputs": [
    {
     "name": "stderr",
     "output_type": "stream",
     "text": [
      "Copying gs://aliz-ml-spec-2022/demo-2/modelling_serializations/20220608_193211/n_jobs=-1.joblib [Content-Type=application/octet-stream]...\n",
      "/ [0 files][    0.0 B/176.6 KiB]                                                \n",
      "/ [1 files][176.6 KiB/176.6 KiB]                                                \n",
      "\n",
      "Operation completed over 1 objects/176.6 KiB.                                    \n"
     ]
    }
   ],
   "source": [
    "DATETIME = \"20220608_193211\"\n",
    "HYPERTUNED_MODEL = f\"gs://aliz-ml-spec-2022/demo-2/modelling_serializations/{DATETIME}/n_jobs=-1.joblib\"\n",
    "MODEL_PATH_TO_DEPLOY = f\"gs://aliz-ml-spec-2022/demo-2/modelling_serializations/{DATETIME}/to_deploy\"\n",
    "!gsutil cp $HYPERTUNED_MODEL $MODEL_PATH_TO_DEPLOY/model.joblib"
   ]
  },
  {
   "cell_type": "markdown",
   "metadata": {},
   "source": [
    "We use the `europe-docker.pkg.dev/vertex-ai/prediction/sklearn-cpu.0-23:latest` pre-built container for prediction. "
   ]
  },
  {
   "cell_type": "code",
   "execution_count": 5,
   "metadata": {},
   "outputs": [
    {
     "name": "stderr",
     "output_type": "stream",
     "text": [
      "Using endpoint [https://europe-west3-aiplatform.googleapis.com/]\n",
      "Waiting for operation [8171361510421954560]...\n",
      ".....done.\n"
     ]
    }
   ],
   "source": [
    "!gcloud ai models upload --region=\"europe-west3\" --display-name=\"demo2_blackfriday\" --container-image-uri=\"europe-docker.pkg.dev/vertex-ai/prediction/sklearn-cpu.0-23:latest\" --artifact-uri=$MODEL_PATH_TO_DEPLOY"
   ]
  },
  {
   "cell_type": "code",
   "execution_count": 7,
   "metadata": {},
   "outputs": [
    {
     "name": "stdout",
     "output_type": "stream",
     "text": [
      "MODEL_ID             DISPLAY_NAME\n",
      "4772337861384994816  demo2_blackfriday\n"
     ]
    },
    {
     "name": "stderr",
     "output_type": "stream",
     "text": [
      "Using endpoint [https://europe-west3-aiplatform.googleapis.com/]\n"
     ]
    }
   ],
   "source": [
    "!gcloud ai models list --region=\"europe-west3\""
   ]
  },
  {
   "cell_type": "code",
   "execution_count": 8,
   "metadata": {},
   "outputs": [],
   "source": [
    "MODEL_ID = 4772337861384994816"
   ]
  },
  {
   "cell_type": "markdown",
   "metadata": {},
   "source": [
    "### Deploy model"
   ]
  },
  {
   "cell_type": "markdown",
   "metadata": {},
   "source": [
    "Deployment might take a while."
   ]
  },
  {
   "cell_type": "code",
   "execution_count": 9,
   "metadata": {},
   "outputs": [
    {
     "name": "stderr",
     "output_type": "stream",
     "text": [
      "Using endpoint [https://europe-west3-aiplatform.googleapis.com/]\n",
      "Waiting for operation [7405749573768970240]...\n",
      ".....................................................................................................................................................................................................................................................................................................................................................................................................................................................................................................................................................................................................................................................................................................................................................................................................................................................................................................................................................................................................................................................................................................................................................................................................................................................................................................................................................................................................................................................................................................................................................................................................................................................................................................................................................................................................................................................................................................................................................................................................................................................................................................................................................................................................................................................................................................................................................................................................................................................................................................................................................................................................................................................................................................................................................................................................................................................................................................................................................................................................................................................................................................................................................................................................................................................................................................................................................................................................................................................................................................................................................................................................................................................................................................................................................................................................................................................................................................................................................................................................................................................................................................................................................................................................................................................................................................................................................................................................................................................................................................................................................................................................................................................................................................done.\n",
      "Deployed a model to the endpoint 3855890521587187712. Id of the deployed model: 2472581748542668800.\n"
     ]
    }
   ],
   "source": [
    "!gcloud ai endpoints deploy-model $ENDPOINT_ID --region=europe-west3 --model=$MODEL_ID --display-name=\"demo2_blackfriday\" --machine-type=n1-standard-2 --min-replica-count=1 --max-replica-count=1 --traffic-split=0=100"
   ]
  },
  {
   "cell_type": "code",
   "execution_count": 14,
   "metadata": {},
   "outputs": [],
   "source": [
    "DEPLOYED_MODEL_ID = 2472581748542668800"
   ]
  },
  {
   "cell_type": "markdown",
   "metadata": {},
   "source": [
    "#### Predict using Gcloud"
   ]
  },
  {
   "cell_type": "code",
   "execution_count": 10,
   "metadata": {},
   "outputs": [
    {
     "name": "stdout",
     "output_type": "stream",
     "text": [
      "Overwriting request.json\n"
     ]
    }
   ],
   "source": [
    "%%writefile request.json\n",
    "{\n",
    "    \"instances\": [\n",
    "        [1000004, \"P00128942\", \"M\", \"46-50\", 7, \"B\", 2, 1, \"1\", \"11.0\", \"nan\"],\n",
    "        [1000009, \"P00113442\", \"M\", \"26-35\", 17, \"C\", 0, 0, \"3\", \"5.0\", \"nan\"],\n",
    "        [1000010, \"P00288442\", \"F\", \"36-45\", 1, \"B\", 4, 1, \"5\", \"14.0\", \"nan\"]\n",
    "    ]\n",
    "}"
   ]
  },
  {
   "cell_type": "code",
   "execution_count": 11,
   "metadata": {},
   "outputs": [
    {
     "name": "stdout",
     "output_type": "stream",
     "text": [
      "[16106.12595763068, 11403.39117999512, 7028.360205575746]\n"
     ]
    },
    {
     "name": "stderr",
     "output_type": "stream",
     "text": [
      "Using endpoint [https://europe-west3-prediction-aiplatform.googleapis.com/]\n"
     ]
    }
   ],
   "source": [
    "!gcloud ai endpoints predict $ENDPOINT_ID --region=europe-west3 --json-request=request.json"
   ]
  },
  {
   "cell_type": "markdown",
   "metadata": {},
   "source": [
    "#### Predict using Python"
   ]
  },
  {
   "cell_type": "code",
   "execution_count": 12,
   "metadata": {},
   "outputs": [
    {
     "data": {
      "text/plain": [
       "Prediction(predictions=[16106.12595763068, 11403.39117999512, 7028.360205575746], deployed_model_id='2472581748542668800', explanations=None)"
      ]
     },
     "execution_count": 12,
     "metadata": {},
     "output_type": "execute_result"
    }
   ],
   "source": [
    "from google.cloud import aiplatform\n",
    "\n",
    "def predict(project: str, location: str, instances: list, endpoint: str):\n",
    "    aiplatform.init(project=project, location=location)\n",
    "\n",
    "    endpoint = aiplatform.Endpoint(endpoint)\n",
    "\n",
    "    prediction = endpoint.predict(instances=instances)\n",
    "    return prediction\n",
    "\n",
    "predict(\n",
    "    project=\"aliz-ml-spec-2022-submission\",\n",
    "    location=\"europe-west3\",\n",
    "    instances=[\n",
    "      [1000004, \"P00128942\", \"M\", \"46-50\", 7, \"B\", 2, 1, \"1\", \"11.0\", \"nan\"],\n",
    "      [1000009, \"P00113442\", \"M\", \"26-35\", 17, \"C\", 0, 0, \"3\", \"5.0\", \"nan\"],\n",
    "      [1000010, \"P00288442\", \"F\", \"36-45\", 1, \"B\", 4, 1, \"5\", \"14.0\", \"nan\"]\n",
    "    ],\n",
    "    endpoint=str(ENDPOINT_ID)\n",
    ")"
   ]
  },
  {
   "cell_type": "markdown",
   "metadata": {},
   "source": [
    "The deployed model works just fine, we can get predictions. The predictions for each method are, of course, the same."
   ]
  },
  {
   "cell_type": "markdown",
   "metadata": {},
   "source": [
    "#### Cleanup\n",
    "\n",
    "You can also undeploy the model, delete the model and endpoint from the Vertex AI Dashboard. However, we present the cleaning with code."
   ]
  },
  {
   "cell_type": "code",
   "execution_count": 15,
   "metadata": {},
   "outputs": [
    {
     "name": "stderr",
     "output_type": "stream",
     "text": [
      "Using endpoint [https://europe-west3-aiplatform.googleapis.com/]\n"
     ]
    }
   ],
   "source": [
    "!gcloud ai endpoints undeploy-model $ENDPOINT_ID --region=\"europe-west3\" --deployed-model-id=$DEPLOYED_MODEL_ID"
   ]
  },
  {
   "cell_type": "code",
   "execution_count": null,
   "metadata": {},
   "outputs": [],
   "source": [
    "!gcloud ai endpoints delete $ENDPOINT_ID --region=\"europe-west3\""
   ]
  },
  {
   "cell_type": "code",
   "execution_count": 17,
   "metadata": {},
   "outputs": [
    {
     "name": "stderr",
     "output_type": "stream",
     "text": [
      "Using endpoint [https://europe-west3-aiplatform.googleapis.com/]\n"
     ]
    }
   ],
   "source": [
    "!gcloud ai models delete $MODEL_ID --region=\"europe-west3\""
   ]
  }
 ],
 "metadata": {
  "interpreter": {
   "hash": "bc06bcd290edec7cb8ce411b6bcce5e33281c1a61d9d13c57740a80f0704bd99"
  },
  "kernelspec": {
   "display_name": "Python 3.7.13 ('env37': venv)",
   "language": "python",
   "name": "python3"
  },
  "language_info": {
   "codemirror_mode": {
    "name": "ipython",
    "version": 3
   },
   "file_extension": ".py",
   "mimetype": "text/x-python",
   "name": "python",
   "nbconvert_exporter": "python",
   "pygments_lexer": "ipython3",
   "version": "3.7.13"
  }
 },
 "nbformat": 4,
 "nbformat_minor": 4
}
