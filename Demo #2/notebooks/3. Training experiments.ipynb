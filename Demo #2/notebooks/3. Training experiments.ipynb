{
 "cells": [
  {
   "cell_type": "markdown",
   "metadata": {},
   "source": [
    "# Training experiments"
   ]
  },
  {
   "cell_type": "markdown",
   "metadata": {},
   "source": [
    "This notebook aims at running some training experiments for our ML use case: predicting the `Purchase` target label from the features available and chosen during the data exploration.\n",
    "\n",
    "More specifically, we will run:\n",
    "- a linear regression as a baseline\n",
    "- a random forest\n",
    "- an XGBoost\n",
    "- XGBoost with matrix factorization\n",
    "- CatBoost to easily check feature importances\n",
    "\n",
    "Then we will try to append an additional preprocessing step: a dimensionality reduction via a matrix factorisation.\n",
    "<br>_Reason is that such a dimensionality reduction step may help in case of very high cardinalities of categorical features._\n",
    "\n",
    "__Important note about evaluating the model performances__:\n",
    "<br>Even if RMSE is used as the main metric to optimise for the models, we do think that calculating more metrics gives a broader picture.\n",
    "<br>We will focus our reasoning on two main metrics:\n",
    "- RMSE: advantage is to be expressed in the original unit (great advantage for business purposes) while caveat is to know the entire target label distribution to fully locate the error\n",
    "- R2: advantage is to lie on a standard scale (like `[0, 1]` or `[-∞, 1]` depending on the implementation - meaning that we do not need to reason with the original target distribution), while caveat is that such metric is dataset dependant (caveat that we overcome by using exactly the same dataset splits).\n",
    "<br>In all our ML experiments, we will plot the distributions of the model predictions vs. the groundtruth labels in addition to the regular evaluation metrics (RMSE, R2, etc.)\n",
    "<br>Please take into consideration that the goodness of fit of such distributions is ___NOT___ a sufficient condition to have a perfect model, but remains a __necessary condition__."
   ]
  },
  {
   "cell_type": "markdown",
   "metadata": {},
   "source": [
    "## Preprocessing\n",
    "\n",
    "The following features will be considered as categorical:\n",
    "- `User_ID`\n",
    "- `Product_ID`\n",
    "- `Gender`\n",
    "- `Age`\n",
    "- `Occupation`\n",
    "- `City_Category`\n",
    "- `Marital_Status`\n",
    "- `Product_Category_1`\n",
    "- `Product_Category_2`\n",
    "- `Product_Category_3`\n",
    "\n",
    "Such categorical features will have any missing values (originally blank as `null`) filled with the string `missing` via the Sklearn `SimpleImputer`.\n",
    "<br>They will then be encoded by Sklearn `OneHotEncoder` set to ignore unknown values from training during inference.\n",
    "\n",
    "We will consider only one feature as numeric: `Stay_In_Current_City_Years`.\n",
    "<br>Such feature will first be cleaned with a custom-made routine imported via Sklearn `FunctionTransformer`.\n",
    "<br>Then Sklearn `SimpleImputer` will be applied for any missing value filled in with `-1`.\n",
    "<br>Caution can be taken that we did not try to standardize the numeric features since we have only one numeric feature with a scale `[-1, 4]`.\n",
    "<br>Furthermore, from the instructions, we foresee to use ensembles of decision trees, which are non sensitive to different feature scales.\n",
    "\n",
    "\n",
    "Sklearn `ColumnTransformer` will be used to aggregate both numeric & categorical features into a model of interest - from a linear regression to an XGBoost.\n",
    "\n"
   ]
  },
  {
   "cell_type": "markdown",
   "metadata": {},
   "source": [
    "## Baseline model"
   ]
  },
  {
   "cell_type": "code",
   "execution_count": 1,
   "metadata": {},
   "outputs": [],
   "source": [
    "%load_ext autoreload\n",
    "%autoreload 2"
   ]
  },
  {
   "cell_type": "code",
   "execution_count": 2,
   "metadata": {},
   "outputs": [],
   "source": [
    "from sklearn.linear_model import LinearRegression\n",
    "from sklearn.pipeline import Pipeline\n",
    "from pprint import pprint\n",
    "from modelling.models import (\n",
    "    train_eval,\n",
    "    setup_mlflow\n",
    ")\n",
    "from modelling.preprocessing import get_constant_imputed_preprocessor\n",
    "from data.data import import_data\n",
    "\n",
    "\n",
    "# Set tracking URI and enable autologging \n",
    "setup_mlflow()\n",
    "\n",
    "# Get training data\n",
    "X, y = import_data(\"train.csv\")\n",
    "\n",
    "lin_reg_model, lin_reg_training_perf, lin_reg_test_perf = train_eval(\n",
    "    X=X,\n",
    "    y=y,\n",
    "    model=Pipeline(steps=[\n",
    "        (\"preprocessor\", get_constant_imputed_preprocessor()),\n",
    "        (\"regressor\", LinearRegression())\n",
    "    ]),\n",
    "    model_name=\"lin_reg_imputed\",\n",
    "    plot_preds=True\n",
    ")"
   ]
  },
  {
   "cell_type": "code",
   "execution_count": 2,
   "metadata": {},
   "outputs": [
    {
     "name": "stdout",
     "output_type": "stream",
     "text": [
      "{'MAE': 1852.2647234180647,\n",
      " 'MedAE': 1398.1260149831915,\n",
      " 'R2': 0.7528227991427534,\n",
      " 'RMSE': 2500.4129538918755,\n",
      " 'explained_variance': 0.7528289332595195,\n",
      " 'max_error': 16314.215487500536,\n",
      " 'r2': 0.752854415599014}\n"
     ]
    }
   ],
   "source": [
    "pprint(lin_reg_test_perf)"
   ]
  },
  {
   "cell_type": "markdown",
   "metadata": {},
   "source": [
    "The choice of a train/test split of 70% / 30% is made to fit at best the real conditions: this is the same ratio of training vs. testing examples for which we will have to serve the final model.\n",
    "\n",
    "Actually using a Linear Regression gives a very good result with an R2 of __0.75__ during the test.\n",
    "<br>In terms of RMSE, we are at __2500__ for the test performance.\n",
    "\n",
    "Such baseline may be difficult to beat indeed.\n",
    "\n",
    "As for the plots, the linear model gives smoother prediction than the groundtruth.\n",
    "<br>Currently as a sign of underfitting, the model performance can be improved."
   ]
  },
  {
   "cell_type": "markdown",
   "metadata": {},
   "source": [
    "#### Comment\n",
    "\n",
    "Sklearn R2 version (used here) implements the *Nash–Sutcliffe model efficiency coefficient* - denoting a goodness-of-fit indicator that can vary from -∞ to 1.\n",
    "<br>Having a negative R2 means that the model is worse than a naive one always predicting the mean of the target variable $\\bar{y}$.\n",
    "\n",
    "In the plots, we can see negative values for the `Purchase` variable.\n",
    "<br>These are just artefacts from the KDE-fitting and they must be discarded."
   ]
  },
  {
   "cell_type": "markdown",
   "metadata": {},
   "source": [
    "## Sklearn Random Forest model"
   ]
  },
  {
   "cell_type": "code",
   "execution_count": 3,
   "metadata": {},
   "outputs": [],
   "source": [
    "from sklearn.ensemble import RandomForestRegressor\n",
    "\n",
    "params = {\n",
    "    'n_estimators': 30, 'criterion': 'mse', 'max_depth': 10,\n",
    "    'random_state': 0, 'max_features': 'auto', 'n_jobs': -1\n",
    "}\n",
    "\n",
    "# rf_model, rf_training_perf, rf_test_perf = train_eval(\n",
    "#     X=X,\n",
    "#     y=y,\n",
    "#     model=Pipeline(steps=[\n",
    "#         (\"preprocessor\", get_constant_imputed_preprocessor()),\n",
    "#         (\"regressor\", RandomForestRegressor(**params))\n",
    "#     ]),\n",
    "#     model_name=\"random_forest_imputed\",\n",
    "#     plot_preds=True\n",
    "# )\n",
    "\n",
    "# pprint(rf_test_perf)"
   ]
  },
  {
   "cell_type": "markdown",
   "metadata": {},
   "source": [
    "Weirdly the Random Forest does not beat the linear regression, with a test performance of __0.64__ in R2 & __3015__ in RMSE.\n",
    "<br>It might be due to the hyperparameter values that we have set: a few trees (_30_) and still quite shallow for a Random Forest model (_max_depth_ of 10).\n",
    "\n",
    "The purpose of such experiments is not to reach the best performance but just to reach some early findings.\n",
    "\n",
    "In the plots, we can see that the Random Forest actually tries to better fit by giving more granular predictions than the linear regression; however its performance fails to be better."
   ]
  },
  {
   "cell_type": "markdown",
   "metadata": {},
   "source": [
    "## Finer-grained imputation"
   ]
  },
  {
   "cell_type": "markdown",
   "metadata": {},
   "source": [
    "Instead of making a traditional imputation with a given value or the most frequent value, we make a finer-grained imputation.\n",
    "Let's fill in the missing entries of `Product_Category_3` with the most frequent value, depending on their `Product_Category_1` & `Product_Category_2` values.\n",
    "\n",
    "We noticed that if `Product_Category_2` value is missing, so is `Product_Category_3` value.\n",
    "\n",
    "Previously we stated that if `Product_Category_1` value is `16`, `17`, `18`, `19` or `20`, then `Product_Category_2` value is not relevant.\n",
    "We need to make the same hypothesis for `Product_Category_3`, and we will impute a `-1` value to `Product_Category_3`, to highlight that `Product_Category_3` value is not relevant.\n",
    "\n",
    "Furthermore, for any pair of `Product_Category_1` & `Product_Category_2` for which all entries in `Product_Category_3` are missing, let's consider `Product_Category_3` is not relevant and impute a value of `-1`."
   ]
  },
  {
   "cell_type": "code",
   "execution_count": 24,
   "metadata": {},
   "outputs": [
    {
     "name": "stderr",
     "output_type": "stream",
     "text": [
      "2022/05/30 07:23:01 WARNING mlflow.utils: Truncated the value of the key `steps`. Truncated value: `[('preprocessor', ColumnTransformer(transformers=[('num',\n",
      "                                 Pipeline(steps=[('clean',\n",
      "                                                  FunctionTransformer(func=<function clean at 0x000001BB11B66828>)),\n",
      "             ...`\n",
      "2022/05/30 07:23:01 WARNING mlflow.utils: Truncated the value of the key `preprocessor`. Truncated value: `ColumnTransformer(transformers=[('num',\n",
      "                                 Pipeline(steps=[('clean',\n",
      "                                                  FunctionTransformer(func=<function clean at 0x000001BB11B66828>)),\n",
      "                               ...`\n",
      "2022/05/30 07:23:01 WARNING mlflow.utils: Truncated the value of the key `preprocessor__transformers`. Truncated value: `[('num', Pipeline(steps=[('clean',\n",
      "                 FunctionTransformer(func=<function clean at 0x000001BB11B66828>)),\n",
      "                ('imputer', SimpleImputer(fill_value=-1, strategy='constant'))]), [6]), ('cat', Pipeline(steps=[('cast',\n",
      "       ...`\n",
      "2022/05/30 07:23:01 WARNING mlflow.utils: Truncated the value of the key `preprocessor__cat`. Truncated value: `Pipeline(steps=[('cast',\n",
      "                 FunctionTransformer(func=<function cast at 0x000001BB11B663A8>)),\n",
      "                ('category_imputer', CategoryImputer()),\n",
      "                ('imputer',\n",
      "                 SimpleImputer(fill_value='missing', s...`\n"
     ]
    },
    {
     "name": "stdout",
     "output_type": "stream",
     "text": [
      "Training...\n"
     ]
    },
    {
     "name": "stderr",
     "output_type": "stream",
     "text": [
      "2022/05/30 07:24:39 WARNING mlflow.utils.requirements_utils: The following packages were not found in the public PyPI package index as of 2022-05-13; if these packages are not present in the public PyPI index, you must install them manually before loading your model: {'gcp-ml-spec-demo-2'}\n"
     ]
    },
    {
     "name": "stdout",
     "output_type": "stream",
     "text": [
      "   Training time: 99.75 s\n"
     ]
    },
    {
     "data": {
      "image/png": "[encoded data removed]",
      "text/plain": [
       "<Figure size 432x288 with 1 Axes>"
      ]
     },
     "metadata": {
      "needs_background": "light"
     },
     "output_type": "display_data"
    },
    {
     "data": {
      "image/png": "[encoded data removed]",
      "text/plain": [
       "<Figure size 432x288 with 1 Axes>"
      ]
     },
     "metadata": {
      "needs_background": "light"
     },
     "output_type": "display_data"
    },
    {
     "name": "stdout",
     "output_type": "stream",
     "text": [
      "{'MAE': 4074.384913208407,\n",
      " 'MedAE': 3329.700395992748,\n",
      " 'R2': -2.839815286193037e-05,\n",
      " 'RMSE': 5029.371330284876,\n",
      " 'explained_variance': -2.0327969854738726e-05,\n",
      " 'max_error': 14758.856215167869,\n",
      " 'r2': 1.4348419734792528e-05}\n"
     ]
    }
   ],
   "source": [
    "from modelling.preprocessing import get_category_imputed_preprocessor\n",
    "\n",
    "\n",
    "rf_cat_model, rf_cat_training_perf, rf_cat_test_perf = train_eval(\n",
    "    X=X,\n",
    "    y=y,\n",
    "    model=Pipeline(steps=[\n",
    "        (\"preprocessor\", get_category_imputed_preprocessor()),\n",
    "        (\"regressor\", RandomForestRegressor(**params))\n",
    "    ]),\n",
    "    model_name=\"random_forest_category_imputed\",\n",
    "    plot_preds=True\n",
    ")\n",
    "\n",
    "pprint(rf_cat_test_perf)"
   ]
  },
  {
   "cell_type": "markdown",
   "metadata": {},
   "source": [
    "Having such finer-grained imputation caused the model to learn the mean, thus in scores a __near-zero__ in R2 & __5029__ in RMSE.\n",
    "\n",
    "TODO: Reason why?\n",
    "\n",
    "Let's keep the simple imputation for further experiments."
   ]
  },
  {
   "cell_type": "markdown",
   "metadata": {},
   "source": [
    "## XGBoost"
   ]
  },
  {
   "cell_type": "code",
   "execution_count": 5,
   "metadata": {},
   "outputs": [
    {
     "name": "stderr",
     "output_type": "stream",
     "text": [
      "2022/05/25 19:28:18 WARNING mlflow.utils: Truncated the value of the key `steps`. Truncated value: `[('preprocessor', ColumnTransformer(transformers=[('num',\n",
      "                                 Pipeline(steps=[('clean',\n",
      "                                                  FunctionTransformer(func=<function clean at 0x000001B492162798>)),\n",
      "             ...`\n",
      "2022/05/25 19:28:18 WARNING mlflow.utils: Truncated the value of the key `preprocessor`. Truncated value: `ColumnTransformer(transformers=[('num',\n",
      "                                 Pipeline(steps=[('clean',\n",
      "                                                  FunctionTransformer(func=<function clean at 0x000001B492162798>)),\n",
      "                               ...`\n",
      "2022/05/25 19:28:18 WARNING mlflow.utils: Truncated the value of the key `regressor`. Truncated value: `XGBRegressor(base_score=None, booster=None, callbacks=None,\n",
      "             colsample_bylevel=None, colsample_bynode=None,\n",
      "             colsample_bytree=None, early_stopping_rounds=None,\n",
      "             enable_categorical=False, eval_metric=None, gamma=...`\n",
      "2022/05/25 19:28:18 WARNING mlflow.utils: Truncated the value of the key `preprocessor__transformers`. Truncated value: `[('num', Pipeline(steps=[('clean',\n",
      "                 FunctionTransformer(func=<function clean at 0x000001B492162798>)),\n",
      "                ('standardscaler', StandardScaler()),\n",
      "                ('imputer', SimpleImputer())]), [6]), ('cat', Pipeline(ste...`\n",
      "2022/05/25 19:28:18 WARNING mlflow.utils: Truncated the value of the key `preprocessor__cat`. Truncated value: `Pipeline(steps=[('cast',\n",
      "                 FunctionTransformer(func=<function cast at 0x000001B492162828>)),\n",
      "                ('imputer',\n",
      "                 SimpleImputer(fill_value='missing', strategy='constant')),\n",
      "                ('onehot', OneHotEn...`\n"
     ]
    },
    {
     "name": "stdout",
     "output_type": "stream",
     "text": [
      "Training...\n"
     ]
    },
    {
     "name": "stderr",
     "output_type": "stream",
     "text": [
      "2022/05/25 19:28:49 WARNING mlflow.utils.requirements_utils: The following packages were not found in the public PyPI package index as of 2022-05-13; if these packages are not present in the public PyPI index, you must install them manually before loading your model: {'gcp-ml-spec-demo-2'}\n"
     ]
    },
    {
     "name": "stdout",
     "output_type": "stream",
     "text": [
      "   Training time: 31.67 s\n"
     ]
    },
    {
     "data": {
      "image/png": "[encoded data removed]",
      "text/plain": [
       "<Figure size 432x288 with 1 Axes>"
      ]
     },
     "metadata": {
      "needs_background": "light"
     },
     "output_type": "display_data"
    },
    {
     "data": {
      "image/png": "[encoded data removed]",
      "text/plain": [
       "<Figure size 432x288 with 1 Axes>"
      ]
     },
     "metadata": {
      "needs_background": "light"
     },
     "output_type": "display_data"
    },
    {
     "name": "stdout",
     "output_type": "stream",
     "text": [
      "{'MAE': 2302.494407544745,\n",
      " 'MedAE': 1836.7939453125,\n",
      " 'R2': 0.6451306803393648,\n",
      " 'RMSE': 2995.9996772628415,\n",
      " 'explained_variance': 0.6451321693166268,\n",
      " 'max_error': 14157.611328125,\n",
      " 'r2': 0.6519619688979406}\n"
     ]
    }
   ],
   "source": [
    "from xgboost import XGBRegressor\n",
    "from multiprocessing import cpu_count\n",
    "\n",
    "params = {\n",
    "    'n_estimators': 100, 'learning_rate': 0.1, 'max_depth': 3, 'subsample': 1.0,\n",
    "    'random_state': 0, 'n_jobs': cpu_count()\n",
    "}\n",
    "\n",
    "xgb_model, xgb_training_perf, xgb_test_perf = train_eval(\n",
    "    X=X,\n",
    "    y=y,\n",
    "    model=Pipeline(steps=[\n",
    "        (\"preprocessor\", get_constant_imputed_preprocessor()),\n",
    "        (\"regressor\", XGBRegressor(**params))\n",
    "    ]),\n",
    "    model_name=\"xgb\",\n",
    "    plot_preds=True\n",
    ")\n",
    "pprint(xgb_test_perf)"
   ]
  },
  {
   "cell_type": "markdown",
   "metadata": {},
   "source": [
    "The same remark formulated for the Random Forest model stands for the XGBoost one.\n",
    "<br>The XGBoost actually underperforms compared to the linear regression baseline, with a test performance of __0.65__ in R2 & __2995__ in RMSE.\n",
    "\n",
    "In the plots, we can see that the XGBoost tries to better fit by giving more granular predictions than the linear regression, and even more detailed ones than the Random Forest;  however still its performance fails to be better than the baseline."
   ]
  },
  {
   "cell_type": "markdown",
   "metadata": {},
   "source": [
    "## Matrix Factorisation + XGBoost"
   ]
  },
  {
   "cell_type": "code",
   "execution_count": 6,
   "metadata": {},
   "outputs": [
    {
     "name": "stderr",
     "output_type": "stream",
     "text": [
      "2022/05/25 19:29:52 WARNING mlflow.utils: Truncated the value of the key `steps`. Truncated value: `[('preprocessor', ColumnTransformer(transformers=[('num',\n",
      "                                 Pipeline(steps=[('clean',\n",
      "                                                  FunctionTransformer(func=<function clean at 0x000001B492162798>)),\n",
      "             ...`\n",
      "2022/05/25 19:29:52 WARNING mlflow.utils: Truncated the value of the key `preprocessor`. Truncated value: `ColumnTransformer(transformers=[('num',\n",
      "                                 Pipeline(steps=[('clean',\n",
      "                                                  FunctionTransformer(func=<function clean at 0x000001B492162798>)),\n",
      "                               ...`\n",
      "2022/05/25 19:29:52 WARNING mlflow.utils: Truncated the value of the key `regressor`. Truncated value: `XGBRegressor(base_score=None, booster=None, callbacks=None,\n",
      "             colsample_bylevel=None, colsample_bynode=None,\n",
      "             colsample_bytree=None, early_stopping_rounds=None,\n",
      "             enable_categorical=False, eval_metric=None, gamma=...`\n",
      "2022/05/25 19:29:52 WARNING mlflow.utils: Truncated the value of the key `preprocessor__transformers`. Truncated value: `[('num', Pipeline(steps=[('clean',\n",
      "                 FunctionTransformer(func=<function clean at 0x000001B492162798>)),\n",
      "                ('standardscaler', StandardScaler()),\n",
      "                ('imputer', SimpleImputer())]), [6]), ('cat', Pipeline(ste...`\n",
      "2022/05/25 19:29:52 WARNING mlflow.utils: Truncated the value of the key `preprocessor__cat`. Truncated value: `Pipeline(steps=[('cast',\n",
      "                 FunctionTransformer(func=<function cast at 0x000001B492162828>)),\n",
      "                ('imputer',\n",
      "                 SimpleImputer(fill_value='missing', strategy='constant')),\n",
      "                ('onehot', OneHotEn...`\n"
     ]
    },
    {
     "name": "stdout",
     "output_type": "stream",
     "text": [
      "Training...\n"
     ]
    },
    {
     "name": "stderr",
     "output_type": "stream",
     "text": [
      "2022/05/25 19:35:48 WARNING mlflow.utils.requirements_utils: The following packages were not found in the public PyPI package index as of 2022-05-13; if these packages are not present in the public PyPI index, you must install them manually before loading your model: {'gcp-ml-spec-demo-2'}\n"
     ]
    },
    {
     "name": "stdout",
     "output_type": "stream",
     "text": [
      "   Training time: 356.89 s\n",
      "{'MAE': 2256.63546051762,\n",
      " 'MedAE': 1706.8095703125,\n",
      " 'R2': 0.6559286044011243,\n",
      " 'RMSE': 2950.066594453702,\n",
      " 'explained_variance': 0.655931148352041,\n",
      " 'max_error': 16209.4453125,\n",
      " 'r2': 0.659792613591101}\n"
     ]
    }
   ],
   "source": [
    "from sklearn.decomposition import TruncatedSVD\n",
    "\n",
    "SVD_params = {\n",
    "    'n_components': 100, 'random_state': 0\n",
    "}\n",
    "\n",
    "XGB_params = {\n",
    "    'n_estimators': 100, 'learning_rate': 0.1, 'max_depth': 3, 'subsample': 1.0,\n",
    "    'random_state': 0, 'n_jobs': cpu_count()\n",
    "}\n",
    "\n",
    "reduced_xgb_model, reduced_xgb_training_perf, reduced_xgb_test_perf = train_eval(\n",
    "    X=X,\n",
    "    y=y,\n",
    "    model=Pipeline(steps=[\n",
    "        (\"preprocessor\", get_constant_imputed_preprocessor()),\n",
    "        (\"reductor\", TruncatedSVD(**SVD_params)),\n",
    "        (\"regressor\", XGBRegressor(**XGB_params))\n",
    "    ]),\n",
    "    model_name=\"reduced_xgb\",\n",
    "    plot_preds=False\n",
    ")\n",
    "pprint(reduced_xgb_test_perf)"
   ]
  },
  {
   "cell_type": "markdown",
   "metadata": {},
   "source": [
    "The dimensionality reduction boosts a little the performances, but not significantly.\n",
    "<br>The reduced XGBoost does not beat the baseline, with a test performance of __0.65__ in R2 & __2969__ in RMSE.\n",
    "\n",
    "In terms of plots, we can see that the reduced XGBoost tries to better fit by giving more granular predictions than the linear regression, and less off predictions than the XGBoost alone; however still its performance fails to be better than the baseline."
   ]
  },
  {
   "cell_type": "markdown",
   "metadata": {},
   "source": [
    "## General observations"
   ]
  },
  {
   "cell_type": "markdown",
   "metadata": {},
   "source": [
    "All the results above are very similar with the ones of the initial notebook.\n",
    "<br>For some models the performances are slightly higher; for those other ones, slightly lower. In any case the differences are not significant.\n",
    "\n",
    "We may then ask about the relevance of the features `Product_Category_2` & `Product_Category_3` for the modeling task.\n",
    "\n",
    "To answer this question, let's retrieve the feature importances."
   ]
  },
  {
   "cell_type": "markdown",
   "metadata": {},
   "source": [
    "## Feature importances"
   ]
  },
  {
   "cell_type": "markdown",
   "metadata": {},
   "source": [
    "Let's use a Catboost regressor to extract the feature importances.\n",
    "\n",
    "Catboost models are user-friendly in the way that they extract a single value for each categorical feature.\n",
    "<br>On the contrary, models from Sklearn or XGBoost give as many features importances as the number of distinct categories of a variable, which is not convenient."
   ]
  },
  {
   "cell_type": "code",
   "execution_count": 7,
   "metadata": {},
   "outputs": [
    {
     "name": "stdout",
     "output_type": "stream",
     "text": [
      "Training...\n",
      "0:\tlearn: 4730.9606920\ttotal: 294ms\tremaining: 29.1s\n",
      "20:\tlearn: 2930.3915425\ttotal: 3.29s\tremaining: 12.4s\n",
      "40:\tlearn: 2769.4506335\ttotal: 5.68s\tremaining: 8.17s\n",
      "60:\tlearn: 2730.9839032\ttotal: 7.94s\tremaining: 5.08s\n",
      "80:\tlearn: 2715.5917074\ttotal: 10.1s\tremaining: 2.36s\n",
      "99:\tlearn: 2704.5311501\ttotal: 12.1s\tremaining: 0us\n",
      "   Training time: 15.09 s\n",
      "{'MAE': 1985.120052850289,\n",
      " 'MedAE': 1524.50688746606,\n",
      " 'R2': 0.7204608817418823,\n",
      " 'RMSE': 2659.064247615926,\n",
      " 'explained_variance': 0.7204622558398843,\n",
      " 'max_error': 14739.06594727969,\n",
      " 'r2': 0.7205220038024011}\n"
     ]
    }
   ],
   "source": [
    "from catboost import CatBoostRegressor\n",
    "from data.data import categorical_features, clean, cast\n",
    "\n",
    "params = {\n",
    "    \"cat_features\": categorical_features,\n",
    "    \"n_estimators\": 100, \"learning_rate\": 0.1, \"max_depth\": 3, \"subsample\": 1.0,\n",
    "    \"random_state\": 0, \"verbose\": 20\n",
    "}\n",
    "\n",
    "X_catboost = clean(X.copy())\n",
    "X_catboost = cast(X_catboost)\n",
    "\n",
    "catboost_model, catboost_training_perf, catboost_test_perf = train_eval(\n",
    "    X=X_catboost,\n",
    "    y=y,\n",
    "    model=CatBoostRegressor(**params),\n",
    "    model_name=\"catboost\",\n",
    "    model_params=params,  # MLFlow autologging if not available for Catboots\n",
    "    plot_preds=False\n",
    ")\n",
    "\n",
    "pprint(catboost_test_perf)"
   ]
  },
  {
   "cell_type": "code",
   "execution_count": 8,
   "metadata": {},
   "outputs": [
    {
     "data": {
      "text/html": [
       "<div>\n",
       "<style scoped>\n",
       "    .dataframe tbody tr th:only-of-type {\n",
       "        vertical-align: middle;\n",
       "    }\n",
       "\n",
       "    .dataframe tbody tr th {\n",
       "        vertical-align: top;\n",
       "    }\n",
       "\n",
       "    .dataframe thead th {\n",
       "        text-align: right;\n",
       "    }\n",
       "</style>\n",
       "<table border=\"1\" class=\"dataframe\">\n",
       "  <thead>\n",
       "    <tr style=\"text-align: right;\">\n",
       "      <th></th>\n",
       "      <th>importance</th>\n",
       "      <th>index_position</th>\n",
       "    </tr>\n",
       "  </thead>\n",
       "  <tbody>\n",
       "    <tr>\n",
       "      <th>Product_Category_1</th>\n",
       "      <td>83.151327</td>\n",
       "      <td>8.0</td>\n",
       "    </tr>\n",
       "    <tr>\n",
       "      <th>Product_ID</th>\n",
       "      <td>12.661349</td>\n",
       "      <td>1.0</td>\n",
       "    </tr>\n",
       "    <tr>\n",
       "      <th>User_ID</th>\n",
       "      <td>3.082565</td>\n",
       "      <td>0.0</td>\n",
       "    </tr>\n",
       "    <tr>\n",
       "      <th>Product_Category_2</th>\n",
       "      <td>0.870405</td>\n",
       "      <td>9.0</td>\n",
       "    </tr>\n",
       "    <tr>\n",
       "      <th>Product_Category_3</th>\n",
       "      <td>0.104592</td>\n",
       "      <td>10.0</td>\n",
       "    </tr>\n",
       "    <tr>\n",
       "      <th>City_Category</th>\n",
       "      <td>0.074029</td>\n",
       "      <td>5.0</td>\n",
       "    </tr>\n",
       "    <tr>\n",
       "      <th>Gender</th>\n",
       "      <td>0.029640</td>\n",
       "      <td>2.0</td>\n",
       "    </tr>\n",
       "    <tr>\n",
       "      <th>Age</th>\n",
       "      <td>0.026092</td>\n",
       "      <td>3.0</td>\n",
       "    </tr>\n",
       "    <tr>\n",
       "      <th>Occupation</th>\n",
       "      <td>0.000000</td>\n",
       "      <td>4.0</td>\n",
       "    </tr>\n",
       "    <tr>\n",
       "      <th>Stay_In_Current_City_Years</th>\n",
       "      <td>0.000000</td>\n",
       "      <td>6.0</td>\n",
       "    </tr>\n",
       "    <tr>\n",
       "      <th>Marital_Status</th>\n",
       "      <td>0.000000</td>\n",
       "      <td>7.0</td>\n",
       "    </tr>\n",
       "  </tbody>\n",
       "</table>\n",
       "</div>"
      ],
      "text/plain": [
       "                            importance  index_position\n",
       "Product_Category_1           83.151327             8.0\n",
       "Product_ID                   12.661349             1.0\n",
       "User_ID                       3.082565             0.0\n",
       "Product_Category_2            0.870405             9.0\n",
       "Product_Category_3            0.104592            10.0\n",
       "City_Category                 0.074029             5.0\n",
       "Gender                        0.029640             2.0\n",
       "Age                           0.026092             3.0\n",
       "Occupation                    0.000000             4.0\n",
       "Stay_In_Current_City_Years    0.000000             6.0\n",
       "Marital_Status                0.000000             7.0"
      ]
     },
     "execution_count": 8,
     "metadata": {},
     "output_type": "execute_result"
    }
   ],
   "source": [
    "from data.data import features\n",
    "from modelling.models import get_feature_importances\n",
    "\n",
    "get_feature_importances(catboost_model, features)"
   ]
  },
  {
   "cell_type": "markdown",
   "metadata": {},
   "source": [
    "Even if the contributions of `Product_Category_2` & `Product_Category_3` are not significant, they are not the less informative features.\n",
    "\n",
    "Then we need to consider using them in the rest of this demonstration."
   ]
  },
  {
   "cell_type": "markdown",
   "metadata": {},
   "source": [
    "## Compare models"
   ]
  },
  {
   "cell_type": "markdown",
   "metadata": {},
   "source": [
    "Compare the models in the MLFlow user interface.\n",
    "\n",
    "\n",
    "<img src=\"../imgs/mlflow.png\" />\n",
    "\n",
    "\n",
    "So far, linear regression performs best. However, XGBoost is not far behind, but many untapped hyperparameters for this model have not yet been set. In the next notebook, we will optimize these hyperparameters."
   ]
  },
  {
   "cell_type": "markdown",
   "metadata": {},
   "source": [
    "## Model performance over time"
   ]
  },
  {
   "cell_type": "markdown",
   "metadata": {},
   "source": [
    "Use EvidentlyAI to track the performance of a trained model.\n",
    "\n",
    "Create predictions for both train and test datasets. Use the best models so far, which was the linear regression."
   ]
  },
  {
   "cell_type": "code",
   "execution_count": 10,
   "metadata": {},
   "outputs": [],
   "source": [
    "import numpy as np\n",
    "from data.data import import_data, target_label\n",
    "from sklearn.model_selection import train_test_split\n",
    "\n",
    "# We need the correct labels to evaluate model performance over time\n",
    "# Use the same train-valid split as before\n",
    "ref_data, ref_target = import_data(\"train.csv\")\n",
    "ref_data, prod_data, ref_target, prod_target = train_test_split(\n",
    "    X, y, test_size=0.3, random_state=0\n",
    ")\n",
    "\n",
    "ref_data[\"prediction\"] = lin_reg_model.predict(ref_data)\n",
    "prod_data[\"prediction\"] = lin_reg_model.predict(prod_data)\n",
    "ref_data[target_label] = ref_target\n",
    "prod_data[target_label] = prod_target"
   ]
  },
  {
   "cell_type": "code",
   "execution_count": 11,
   "metadata": {},
   "outputs": [],
   "source": [
    "from evidently import ColumnMapping\n",
    "from evidently.dashboard import Dashboard\n",
    "from evidently.dashboard.tabs import RegressionPerformanceTab\n",
    "\n",
    "from data.data import target_label, numeric_features, categorical_features\n",
    "\n",
    "column_mapping = ColumnMapping(\n",
    "    target_label,\n",
    "    \"prediction\",\n",
    "    numerical_features=numeric_features,\n",
    "    # Evindently is still is beta, it can handle categorical variables which have numeric types ...\n",
    "    categorical_features=ref_data[categorical_features].select_dtypes(include=np.number).columns.values.tolist()\n",
    ")"
   ]
  },
  {
   "cell_type": "markdown",
   "metadata": {},
   "source": [
    "Take a look at the model performance dashboard."
   ]
  },
  {
   "cell_type": "code",
   "execution_count": 12,
   "metadata": {},
   "outputs": [],
   "source": [
    "dashboard = Dashboard(tabs=[RegressionPerformanceTab(verbose_level=1)])\n",
    "dashboard.calculate(ref_data.sample(5000, random_state=0), prod_data.sample(5000, random_state=0), column_mapping=column_mapping)\n",
    "dashboard.save(\"../reports/model_perf_dashboard.html\")"
   ]
  },
  {
   "cell_type": "markdown",
   "metadata": {},
   "source": [
    "Evidently is still is beta, so dashboards might not show up correctly in Jupyter. We have picked the most interesting plots from Evidently's Model Performace Dashboard:\n",
    "\n",
    "\n",
    "<img src=\"../imgs/predicted_vs_actual.JPG\" />\n",
    "<img src=\"../imgs/error_distribution.JPG\" />\n",
    "<img src=\"../imgs/prod_1_error_bias.png\" />\n",
    "<img src=\"../imgs/prod_1_predicted_vs_actual.png\" />\n"
   ]
  },
  {
   "cell_type": "markdown",
   "metadata": {},
   "source": [
    "We can observe that the distribution of the data in the valid set is very similar to the training set. With the help of such diagrams, it is easier to detect if a model is no longer performing so well on the new data. We can also follow the changes over time. It can point out how the data actually fed differs from what the model has seen at training time."
   ]
  },
  {
   "cell_type": "markdown",
   "metadata": {},
   "source": [
    "## Train a model on Vertex AI"
   ]
  },
  {
   "cell_type": "markdown",
   "metadata": {},
   "source": [
    "We can use the Vertex AI platform for longer running and more resource-intensive training. It is also excellent for periodic and automated retraining.\n",
    "\n",
    "We have selected XGBoost as the production model. Train a model on Vertex AI and save it in GCS. In the next notebook will tune the hyperparamters of this model."
   ]
  },
  {
   "cell_type": "code",
   "execution_count": 5,
   "metadata": {},
   "outputs": [
    {
     "name": "stderr",
     "output_type": "stream",
     "text": [
      "Using endpoint [https://europe-west3-aiplatform.googleapis.com/]\n",
      "CustomJob [projects/53911330556/locations/europe-west3/customJobs/7827660772648943616] is submitted successfully.\n",
      "\n",
      "Your job is still active. You may view the status of your job with the command\n",
      "\n",
      "  $ gcloud ai custom-jobs describe projects/53911330556/locations/europe-west3/customJobs/7827660772648943616\n",
      "\n",
      "or continue streaming the logs with the command\n",
      "\n",
      "  $ gcloud ai custom-jobs stream-logs projects/53911330556/locations/europe-west3/customJobs/7827660772648943616\n"
     ]
    }
   ],
   "source": [
    "!gcloud ai custom-jobs create --display-name=\"xgb_custom_job\" --region=europe-west3 --config=trainer.yaml"
   ]
  },
  {
   "cell_type": "markdown",
   "metadata": {},
   "source": [
    "Saved model is available in our bucket: `demo-2/modelling_serializations/`."
   ]
  }
 ],
 "metadata": {
  "interpreter": {
   "hash": "bc06bcd290edec7cb8ce411b6bcce5e33281c1a61d9d13c57740a80f0704bd99"
  },
  "kernelspec": {
   "display_name": "Python 3.7.13 ('env37': venv)",
   "language": "python",
   "name": "python3"
  },
  "language_info": {
   "codemirror_mode": {
    "name": "ipython",
    "version": 3
   },
   "file_extension": ".py",
   "mimetype": "text/x-python",
   "name": "python",
   "nbconvert_exporter": "python",
   "pygments_lexer": "ipython3",
   "version": "3.7.13"
  }
 },
 "nbformat": 4,
 "nbformat_minor": 4
}
