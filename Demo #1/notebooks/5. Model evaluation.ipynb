{
 "cells": [
  {
   "cell_type": "markdown",
   "metadata": {},
   "source": [
    "# Model hyper-parameter tuning & evaluation"
   ]
  },
  {
   "cell_type": "markdown",
   "metadata": {},
   "source": [
    " "
   ]
  },
  {
   "cell_type": "markdown",
   "metadata": {},
   "source": [
    "## Abstract\n",
    "\n",
    "This notebook analyses the hyperparameter tuned model. It uses Tensorflow Model Analysis on the results provided by the Evaluator component in the pipeline."
   ]
  },
  {
   "cell_type": "markdown",
   "metadata": {},
   "source": [
    " "
   ]
  },
  {
   "cell_type": "markdown",
   "metadata": {},
   "source": [
    "In order to run, TFMA needs notebook extensions.\n",
    "<br>To enable such extensions, keep in mind to switch on Vertex Workbench from standard Jupyterlab to Jupyter notebook classic version.\n",
    "<br>To do so, go to `Help > Launch Classic Notebook`.\n",
    "\n",
    "<br>We need to re-run the cell everytime we want to visualize the metrics. If you're using Jupyterlab, you might also need to reinstall the extensions every time.\n",
    "\n",
    "<br>TFMA visuals were saved in an HTML version also in the [reports](../reports/tfma_export.html) directory."
   ]
  },
  {
   "cell_type": "code",
   "execution_count": null,
   "metadata": {},
   "outputs": [],
   "source": [
    "%%bash\n",
    "\n",
    "# Install extensions in terminal to view outputs\n",
    "jupyter labextension install tensorflow_model_analysis@0.27.0\n",
    "jupyter nbextension enable --py widgetsnbextension\n",
    "jupyter nbextension enable --py tensorflow_model_analysis"
   ]
  },
  {
   "cell_type": "code",
   "execution_count": null,
   "metadata": {},
   "outputs": [],
   "source": [
    "mkdir -p eval_data"
   ]
  },
  {
   "cell_type": "code",
   "execution_count": null,
   "metadata": {},
   "outputs": [],
   "source": [
    "!gsutil cp -r gs://aliz-ml-spec-2022/demo-1/pipeline_root/taxi-vertex-pipelines/53911330556/taxi-vertex-pipelines-20220608212029/Evaluator_-8726911200832520192/evaluation eval_data/"
   ]
  },
  {
   "cell_type": "code",
   "execution_count": null,
   "metadata": {},
   "outputs": [],
   "source": [
    "import tensorflow_model_analysis as tfma\n",
    "\n",
    "tfma_result = tfma.load_eval_result('eval_data/evaluation')"
   ]
  },
  {
   "cell_type": "code",
   "execution_count": null,
   "metadata": {},
   "outputs": [],
   "source": [
    "val_result = tfma.load_validation_result('eval_data/evaluation')"
   ]
  },
  {
   "cell_type": "code",
   "execution_count": null,
   "metadata": {
    "scrolled": true
   },
   "outputs": [],
   "source": [
    "slicing_metrics_view = tfma.view.render_slicing_metrics(tfma_result, slicing_column='TripStartHour')"
   ]
  },
  {
   "cell_type": "code",
   "execution_count": null,
   "metadata": {},
   "outputs": [],
   "source": [
    "import tensorflow_model_analysis as tfma\n",
    "from ipywidgets.embed import embed_minimal_html\n",
    "from IPython.core.display import HTML\n",
    "\n",
    "tfma_result = '../reports/tfma_export.html'\n",
    "embed_minimal_html(tfma_result, views=[slicing_metrics_view], title='Slicing Metrics')\n",
    "html = None\n",
    "with open(tfma_result, 'r') as view:\n",
    "    html = view.read()\n",
    "display(HTML(html))"
   ]
  },
  {
   "cell_type": "markdown",
   "metadata": {},
   "source": [
    "In the TFMA results we can see model performance across the defined data slices, in our case it was `TripStartHour`. Model errors are quite even, but in case of 14 hour we see only a few examples which led to lower performance."
   ]
  }
 ],
 "metadata": {
  "environment": {
   "kernel": "python3",
   "name": "tf2-gpu.2-8.m93",
   "type": "gcloud",
   "uri": "gcr.io/deeplearning-platform-release/tf2-gpu.2-8:m93"
  },
  "kernelspec": {
   "display_name": "Python 3",
   "language": "python",
   "name": "python3"
  },
  "language_info": {
   "codemirror_mode": {
    "name": "ipython",
    "version": 3
   },
   "file_extension": ".py",
   "mimetype": "text/x-python",
   "name": "python",
   "nbconvert_exporter": "python",
   "pygments_lexer": "ipython3",
   "version": "3.7.12"
  }
 },
 "nbformat": 4,
 "nbformat_minor": 4
}
