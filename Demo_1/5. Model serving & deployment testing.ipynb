{
 "cells": [
  {
   "cell_type": "markdown",
   "metadata": {},
   "source": [
    "# Model serving & deployment testing"
   ]
  },
  {
   "cell_type": "markdown",
   "metadata": {},
   "source": [
    " "
   ]
  },
  {
   "cell_type": "markdown",
   "metadata": {},
   "source": [
    "## Abstract\n",
    "\n",
    "This notebook test model deployment using a pre-transformed example."
   ]
  },
  {
   "cell_type": "markdown",
   "metadata": {},
   "source": [
    " "
   ]
  },
  {
   "cell_type": "code",
   "execution_count": 109,
   "metadata": {},
   "outputs": [],
   "source": [
    "ENDPOINT_ID='9117141621425569792' \n",
    "GOOGLE_CLOUD_PROJECT = 'aliz-ml-spec-2022-dev'\n",
    "GOOGLE_CLOUD_REGION = 'us-central1'"
   ]
  },
  {
   "cell_type": "code",
   "execution_count": null,
   "metadata": {},
   "outputs": [],
   "source": [
    "!gsutil cp -r gs://mormota/pipeline_root/taxi-vertex-pipelines/639006805448/taxi-vertex-pipelines-20220608184748/Transform_-2682517550947893248/transformed_examples transform/"
   ]
  },
  {
   "cell_type": "code",
   "execution_count": null,
   "metadata": {},
   "outputs": [],
   "source": [
    "!gunzip transform/transformed_examples/Split-eval/transformed_examples-00000-of-00001.gz"
   ]
  },
  {
   "cell_type": "code",
   "execution_count": 110,
   "metadata": {},
   "outputs": [
    {
     "name": "stdout",
     "output_type": "stream",
     "text": [
      "prediction: [5.70512199]\n"
     ]
    }
   ],
   "source": [
    "import numpy as np\n",
    "from google.cloud import aiplatform\n",
    "import tensorflow as tf\n",
    "\n",
    "# The AI Platform services require regional API endpoints.\n",
    "client_options = {\n",
    "    'api_endpoint': GOOGLE_CLOUD_REGION + '-aiplatform.googleapis.com'\n",
    "    }\n",
    "# Initialize client that will be used to create and send requests.\n",
    "client = aiplatform.gapic.PredictionServiceClient(client_options=client_options)\n",
    "\n",
    "\n",
    "raw_dataset = tf.data.TFRecordDataset(\"transform/transformed_examples/Split-eval/transformed_examples-00000-of-00001\")\n",
    "\n",
    "for raw_record in raw_dataset.take(1):\n",
    "    example = tf.train.Example()\n",
    "    example.ParseFromString(raw_record.numpy())\n",
    "\n",
    "instance_dict = {}\n",
    "for feature_name in example.features.ListFields()[0][1]:\n",
    "    if feature_name != 'fare':\n",
    "        try:\n",
    "            instance_dict[feature_name] = [example.features.ListFields()[0][1][feature_name].float_list.value[0]]\n",
    "        except:\n",
    "            instance_dict[feature_name] = [example.features.ListFields()[0][1][feature_name].int64_list.value[0]]\n",
    "\n",
    "instances = [instance_dict]\n",
    "\n",
    "endpoint = client.endpoint_path(\n",
    "    project=GOOGLE_CLOUD_PROJECT,\n",
    "    location=GOOGLE_CLOUD_REGION,\n",
    "    endpoint=ENDPOINT_ID,\n",
    ")\n",
    "response = client.predict(endpoint=endpoint, instances=instances)\n",
    "print('prediction:', response.predictions[0])"
   ]
  },
  {
   "cell_type": "markdown",
   "metadata": {},
   "source": [
    "The prediction of 5.7 we get back is fairly close to the expected 8 from the example"
   ]
  }
 ],
 "metadata": {
  "environment": {
   "kernel": "python3",
   "name": "tf2-gpu.2-8.m93",
   "type": "gcloud",
   "uri": "gcr.io/deeplearning-platform-release/tf2-gpu.2-8:m93"
  },
  "kernelspec": {
   "display_name": "Python 3",
   "language": "python",
   "name": "python3"
  },
  "language_info": {
   "codemirror_mode": {
    "name": "ipython",
    "version": 3
   },
   "file_extension": ".py",
   "mimetype": "text/x-python",
   "name": "python",
   "nbconvert_exporter": "python",
   "pygments_lexer": "ipython3",
   "version": "3.7.12"
  }
 },
 "nbformat": 4,
 "nbformat_minor": 4
}
