{
 "cells": [
  {
   "cell_type": "markdown",
   "metadata": {},
   "source": [
    "# Model hyper-parameter tuning & evaluation"
   ]
  },
  {
   "cell_type": "markdown",
   "metadata": {},
   "source": [
    " "
   ]
  },
  {
   "cell_type": "markdown",
   "metadata": {},
   "source": [
    "## Abstract\n",
    "\n",
    "This notebook analyses the hyperparameter tuned model. It uses Tensorflow Model Analysis on the results provided by the Evaluator component in the pipeline."
   ]
  },
  {
   "cell_type": "markdown",
   "metadata": {},
   "source": [
    " "
   ]
  },
  {
   "cell_type": "markdown",
   "metadata": {},
   "source": [
    "In order to run, TFMA needs notebook extensions.\n",
    "<br>To enable such extensions, keep in mind to switch on AI Platform from standard Jupyterlab to Jupyter notebook classic version.\n",
    "<br>To do so, go to `Help > Launch Classic Notebook`.\n",
    "\n",
    "Furthermore TFMA visuals cannot be saved neither in the notebook nor even in an HTML version.\n",
    "<br>We need to re-run the cell everytime we want to visualize the metrics."
   ]
  },
  {
   "cell_type": "code",
   "execution_count": 1,
   "metadata": {},
   "outputs": [],
   "source": [
    "import tensorflow_model_analysis as tfma"
   ]
  },
  {
   "cell_type": "code",
   "execution_count": 18,
   "metadata": {},
   "outputs": [
    {
     "name": "stdout",
     "output_type": "stream",
     "text": [
      "Copying gs://mormota/pipeline_root/taxi-vertex-pipelines/639006805448/taxi-vertex-pipelines-20220608192208/Evaluator_-4983856960534216704/evaluation/attributions-00000-of-00001.tfrecord...\n",
      "Copying gs://mormota/pipeline_root/taxi-vertex-pipelines/639006805448/taxi-vertex-pipelines-20220608192208/Evaluator_-4983856960534216704/evaluation/eval_config.json...\n",
      "Copying gs://mormota/pipeline_root/taxi-vertex-pipelines/639006805448/taxi-vertex-pipelines-20220608192208/Evaluator_-4983856960534216704/evaluation/metrics-00000-of-00001.tfrecord...\n",
      "Copying gs://mormota/pipeline_root/taxi-vertex-pipelines/639006805448/taxi-vertex-pipelines-20220608192208/Evaluator_-4983856960534216704/evaluation/plots-00000-of-00001.tfrecord...\n",
      "- [4 files][  4.5 KiB/  4.5 KiB]                                                \n",
      "==> NOTE: You are performing a sequence of gsutil operations that may\n",
      "run significantly faster if you instead use gsutil -m cp ... Please\n",
      "see the -m section under \"gsutil help options\" for further information\n",
      "about when gsutil -m can be advantageous.\n",
      "\n",
      "Copying gs://mormota/pipeline_root/taxi-vertex-pipelines/639006805448/taxi-vertex-pipelines-20220608192208/Evaluator_-4983856960534216704/evaluation/validations.tfrecord...\n",
      "- [5 files][  4.6 KiB/  4.6 KiB]                                                \n",
      "Operation completed over 5 objects/4.6 KiB.                                      \n"
     ]
    }
   ],
   "source": [
    "!gsutil cp -r gs://mormota/pipeline_root/taxi-vertex-pipelines/639006805448/taxi-vertex-pipelines-20220608192208/Evaluator_-4983856960534216704/evaluation eval_data/"
   ]
  },
  {
   "cell_type": "code",
   "execution_count": 19,
   "metadata": {},
   "outputs": [],
   "source": [
    "tfma_result = tfma.load_eval_result('eval_data/evaluation')"
   ]
  },
  {
   "cell_type": "code",
   "execution_count": 20,
   "metadata": {},
   "outputs": [],
   "source": [
    "val_result = tfma.load_validation_result('eval_data/evaluation')"
   ]
  },
  {
   "cell_type": "code",
   "execution_count": 26,
   "metadata": {},
   "outputs": [
    {
     "data": {
      "application/vnd.jupyter.widget-view+json": {
       "model_id": "0f3d3f58f0ec4543ad8f5dbde42ec0ba",
       "version_major": 2,
       "version_minor": 0
      },
      "text/plain": [
       "SlicingMetricsViewer(config={'weightedExamplesColumn': 'example_count'}, data=[{'slice': 'TripStartHour:7', 'm…"
      ]
     },
     "metadata": {},
     "output_type": "display_data"
    }
   ],
   "source": [
    "tfma.view.render_slicing_metrics(tfma_result, slicing_column='TripStartHour')"
   ]
  },
  {
   "cell_type": "markdown",
   "metadata": {},
   "source": [
    " "
   ]
  }
 ],
 "metadata": {
  "environment": {
   "kernel": "python3",
   "name": "tf2-gpu.2-8.m93",
   "type": "gcloud",
   "uri": "gcr.io/deeplearning-platform-release/tf2-gpu.2-8:m93"
  },
  "kernelspec": {
   "display_name": "Python 3",
   "language": "python",
   "name": "python3"
  },
  "language_info": {
   "codemirror_mode": {
    "name": "ipython",
    "version": 3
   },
   "file_extension": ".py",
   "mimetype": "text/x-python",
   "name": "python",
   "nbconvert_exporter": "python",
   "pygments_lexer": "ipython3",
   "version": "3.7.12"
  }
 },
 "nbformat": 4,
 "nbformat_minor": 4
}
